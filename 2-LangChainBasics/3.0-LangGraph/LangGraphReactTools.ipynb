{
 "cells": [
  {
   "cell_type": "code",
   "execution_count": 3,
   "id": "bd8106e9",
   "metadata": {},
   "outputs": [
    {
     "name": "stderr",
     "output_type": "stream",
     "text": [
      "d:\\agenticBatch\\venv\\Lib\\site-packages\\requests\\__init__.py:86: RequestsDependencyWarning: Unable to find acceptable character detection dependency (chardet or charset_normalizer).\n",
      "  warnings.warn(\n"
     ]
    }
   ],
   "source": [
    "import os\n",
    "from dotenv import load_dotenv\n",
    "load_dotenv()\n",
    "os.environ[\"GROQ_API_KEY\"] = os.getenv(\"GROQ_API_KEY\")\n",
    "\n",
    "#Initialize the model\n",
    "from langchain_groq import ChatGroq\n",
    "model = ChatGroq(model_name=\"deepseek-r1-distill-llama-70b\")"
   ]
  },
  {
   "cell_type": "code",
   "execution_count": 3,
   "id": "fa2c954f",
   "metadata": {},
   "outputs": [
    {
     "data": {
      "text/plain": [
       "AIMessage(content='<think>\\n\\n</think>\\n\\nHello! How can I assist you today? 😊', additional_kwargs={}, response_metadata={'token_usage': {'completion_tokens': 16, 'prompt_tokens': 4, 'total_tokens': 20, 'completion_time': 0.071281337, 'prompt_time': 0.009330484, 'queue_time': 0.044495466, 'total_time': 0.080611821}, 'model_name': 'deepseek-r1-distill-llama-70b', 'system_fingerprint': 'fp_1bbe7845ec', 'service_tier': 'on_demand', 'finish_reason': 'stop', 'logprobs': None}, id='run--97f6b477-00b6-40b0-a82c-b3c0b56c2a4e-0', usage_metadata={'input_tokens': 4, 'output_tokens': 16, 'total_tokens': 20})"
      ]
     },
     "execution_count": 3,
     "metadata": {},
     "output_type": "execute_result"
    }
   ],
   "source": [
    "model.invoke(\"hi\")"
   ]
  },
  {
   "cell_type": "code",
   "execution_count": 4,
   "id": "daa83f5e",
   "metadata": {},
   "outputs": [
    {
     "data": {
      "text/plain": [
       "'<think>\\n\\n</think>\\n\\nHello! How can I assist you today? 😊'"
      ]
     },
     "execution_count": 4,
     "metadata": {},
     "output_type": "execute_result"
    }
   ],
   "source": [
    "model.invoke(\"hi\").content"
   ]
  },
  {
   "cell_type": "code",
   "execution_count": 5,
   "id": "bb78d541",
   "metadata": {},
   "outputs": [],
   "source": [
    "#Required imports\n",
    "from langchain_core.tools import tool\n",
    "from langchain_core.messages import HumanMessage,AIMessage\n",
    "from langgraph.graph import StateGraph,MessagesState,START,END\n",
    "from langgraph.prebuilt import ToolNode"
   ]
  },
  {
   "cell_type": "code",
   "execution_count": 6,
   "id": "8f07182a",
   "metadata": {},
   "outputs": [],
   "source": [
    "def call_model(state:MessagesState):\n",
    "    messages = state[\"messages\"]\n",
    "    response = model.invoke(messages)\n",
    "    return {\"messages\":[response]}"
   ]
  },
  {
   "cell_type": "code",
   "execution_count": 7,
   "id": "f0173eb3",
   "metadata": {},
   "outputs": [
    {
     "data": {
      "text/plain": [
       "{'messages': [AIMessage(content=\"<think>\\n\\n</think>\\n\\nHello! I'm just a virtual assistant, so I don't have feelings, but I'm here and ready to help you with whatever you need. How are you doing? 😊\", additional_kwargs={}, response_metadata={'token_usage': {'completion_tokens': 42, 'prompt_tokens': 9, 'total_tokens': 51, 'completion_time': 0.182947109, 'prompt_time': 0.009789338, 'queue_time': 0.048785302, 'total_time': 0.192736447}, 'model_name': 'deepseek-r1-distill-llama-70b', 'system_fingerprint': 'fp_1bbe7845ec', 'service_tier': 'on_demand', 'finish_reason': 'stop', 'logprobs': None}, id='run--16649c4f-9f17-4bf2-a0c9-6f3f229f2222-0', usage_metadata={'input_tokens': 9, 'output_tokens': 42, 'total_tokens': 51})]}"
      ]
     },
     "execution_count": 7,
     "metadata": {},
     "output_type": "execute_result"
    }
   ],
   "source": [
    "state={\"messages\":[\"hi hello how are you?\"]}\n",
    "call_model(state)"
   ]
  },
  {
   "cell_type": "code",
   "execution_count": 8,
   "id": "56617552",
   "metadata": {},
   "outputs": [],
   "source": [
    "from langchain_core.messages import AnyMessage, BaseMessage\n",
    "from langgraph.graph.message import add_messages\n",
    "from typing import TypedDict, Annotated, Sequence\n",
    "\n",
    "class MessagesState(TypedDict):\n",
    "    messages:Annotated[list[AnyMessage],add_messages]\n",
    "\n",
    "class AgentMessage(TypedDict):\n",
    "    message:Annotated[Sequence[BaseMessage],add_messages]"
   ]
  },
  {
   "cell_type": "code",
   "execution_count": 9,
   "id": "189ed777",
   "metadata": {},
   "outputs": [
    {
     "data": {
      "image/png": "[encoded data removed]",
      "text/plain": [
       "<langgraph.graph.state.CompiledStateGraph object at 0x0000013B3F2D6270>"
      ]
     },
     "execution_count": 9,
     "metadata": {},
     "output_type": "execute_result"
    }
   ],
   "source": [
    "#Design a workflow without tool calling\n",
    "\n",
    "workflow = StateGraph(MessagesState)\n",
    "workflow.add_node(\"mybot\",call_model)\n",
    "workflow.add_edge(START,\"mybot\")\n",
    "workflow.add_edge(\"mybot\",END)\n",
    "app = workflow.compile()\n",
    "app\n"
   ]
  },
  {
   "cell_type": "code",
   "execution_count": 10,
   "id": "924a917d",
   "metadata": {},
   "outputs": [
    {
     "data": {
      "text/plain": [
       "{'messages': [HumanMessage(content='hi hello how are you?', additional_kwargs={}, response_metadata={}, id='fa5514bd-0c8d-4b94-ab08-f8342cf77e0c'),\n",
       "  AIMessage(content=\"<think>\\n\\n</think>\\n\\nHello! I'm just a virtual assistant, so I don't have feelings, but I'm here and ready to help you with whatever you need. How are *you* doing? 😊\", additional_kwargs={}, response_metadata={'token_usage': {'completion_tokens': 44, 'prompt_tokens': 9, 'total_tokens': 53, 'completion_time': 0.210821036, 'prompt_time': 0.009782438, 'queue_time': 0.044344602, 'total_time': 0.220603474}, 'model_name': 'deepseek-r1-distill-llama-70b', 'system_fingerprint': 'fp_1bbe7845ec', 'service_tier': 'on_demand', 'finish_reason': 'stop', 'logprobs': None}, id='run--b0896148-07e4-4d9b-8257-720db4225066-0', usage_metadata={'input_tokens': 9, 'output_tokens': 44, 'total_tokens': 53})]}"
      ]
     },
     "execution_count": 10,
     "metadata": {},
     "output_type": "execute_result"
    }
   ],
   "source": [
    "input={\"messages\":[\"hi hello how are you?\"]}\n",
    "app.invoke(input)"
   ]
  },
  {
   "cell_type": "code",
   "execution_count": 11,
   "id": "83368f6e",
   "metadata": {},
   "outputs": [
    {
     "name": "stdout",
     "output_type": "stream",
     "text": [
      "Output from mybot Node\n",
      "_______\n",
      "{'messages': [AIMessage(content=\"<think>\\n\\n</think>\\n\\nHello! I'm just a virtual assistant, so I don't have feelings, but I'm here and ready to help you. How are you doing? 😊\", additional_kwargs={}, response_metadata={'token_usage': {'completion_tokens': 38, 'prompt_tokens': 9, 'total_tokens': 47, 'completion_time': 0.181988241, 'prompt_time': 0.009844557, 'queue_time': 0.049373243, 'total_time': 0.191832798}, 'model_name': 'deepseek-r1-distill-llama-70b', 'system_fingerprint': 'fp_1bbe7845ec', 'service_tier': 'on_demand', 'finish_reason': 'stop', 'logprobs': None}, id='run--f8c7a18a-1b01-4a16-89a4-4f54cb0528b5-0', usage_metadata={'input_tokens': 9, 'output_tokens': 38, 'total_tokens': 47})]}\n",
      "\n",
      "\n"
     ]
    }
   ],
   "source": [
    "#To check output from different nodes\n",
    "\n",
    "for output in app.stream(input):\n",
    "    for key,value in output.items():\n",
    "        print(f\"Output from {key} Node\")\n",
    "        print(\"_______\")\n",
    "        print(value)\n",
    "        print(\"\\n\")"
   ]
  },
  {
   "cell_type": "code",
   "execution_count": 12,
   "id": "8f521837",
   "metadata": {},
   "outputs": [],
   "source": [
    "#This is a workflow with tool calling\n",
    "\n",
    "@tool\n",
    "def search(query:str):\n",
    "    \"\"\"This is a custom tool for checking weather\"\"\"\n",
    "    if \"delhi\" in query.lower():\n",
    "        return \"the temp is 45 degree and sunny\"\n",
    "    else:\n",
    "        return \"the temp is 25 degree and cloudy\""
   ]
  },
  {
   "cell_type": "code",
   "execution_count": 13,
   "id": "6ca48324",
   "metadata": {},
   "outputs": [
    {
     "data": {
      "text/plain": [
       "'the temp is 45 degree and sunny'"
      ]
     },
     "execution_count": 13,
     "metadata": {},
     "output_type": "execute_result"
    }
   ],
   "source": [
    "#Testing the tool\n",
    "search.invoke(\"What is the weather in delhi?\")"
   ]
  },
  {
   "cell_type": "code",
   "execution_count": 16,
   "id": "e1947741",
   "metadata": {},
   "outputs": [
    {
     "data": {
      "text/plain": [
       "'the temp is 25 degree and cloudy'"
      ]
     },
     "execution_count": 16,
     "metadata": {},
     "output_type": "execute_result"
    }
   ],
   "source": [
    "search.invoke(\"What is the weather in Bengaluru?\")"
   ]
  },
  {
   "cell_type": "code",
   "execution_count": 17,
   "id": "4d979338",
   "metadata": {},
   "outputs": [
    {
     "data": {
      "text/plain": [
       "StructuredTool(name='search', description='This is a custom tool for checking weather', args_schema=<class 'langchain_core.utils.pydantic.search'>, func=<function search at 0x000001FB76EBBC40>)"
      ]
     },
     "execution_count": 17,
     "metadata": {},
     "output_type": "execute_result"
    }
   ],
   "source": [
    "search"
   ]
  },
  {
   "cell_type": "code",
   "execution_count": 18,
   "id": "e43ea6e9",
   "metadata": {},
   "outputs": [
    {
     "data": {
      "text/plain": [
       "AIMessage(content=\"<think>\\n\\n</think>\\n\\nHi there! I suggest getting online to get real-time information. If you have any other questions, please don't hesitate to let me know!\", additional_kwargs={}, response_metadata={'token_usage': {'completion_tokens': 34, 'prompt_tokens': 11, 'total_tokens': 45, 'completion_time': 0.186549902, 'prompt_time': 0.01021401, 'queue_time': 0.05159646, 'total_time': 0.196763912}, 'model_name': 'deepseek-r1-distill-llama-70b', 'system_fingerprint': 'fp_76307ac09b', 'service_tier': 'on_demand', 'finish_reason': 'stop', 'logprobs': None}, id='run--d9916476-19af-42d7-8700-8c5d1cd80dcc-0', usage_metadata={'input_tokens': 11, 'output_tokens': 34, 'total_tokens': 45})"
      ]
     },
     "execution_count": 18,
     "metadata": {},
     "output_type": "execute_result"
    }
   ],
   "source": [
    "model.invoke(\"What is the weather in Bengaluru?\")"
   ]
  },
  {
   "cell_type": "code",
   "execution_count": 14,
   "id": "2ad3d790",
   "metadata": {},
   "outputs": [],
   "source": [
    "#Binding a tool to the LLM\n",
    "tools = [search]\n",
    "llm_with_tools = model.bind_tools(tools)"
   ]
  },
  {
   "cell_type": "code",
   "execution_count": 15,
   "id": "15f6febd",
   "metadata": {},
   "outputs": [
    {
     "data": {
      "text/plain": [
       "AIMessage(content='', additional_kwargs={'reasoning_content': \"Okay, the user is asking about the weather in Delhi. They might be planning a trip or just curious. I should use the 'search' tool to find the latest weather information. I'll format the tool call correctly to get the details they need.\\n\", 'tool_calls': [{'id': 'thvrcc82w', 'function': {'arguments': '{\"query\":\"weather in Delhi\"}', 'name': 'search'}, 'type': 'function'}]}, response_metadata={'token_usage': {'completion_tokens': 76, 'prompt_tokens': 132, 'total_tokens': 208, 'completion_time': 0.370255817, 'prompt_time': 0.032843488, 'queue_time': 0.043855592, 'total_time': 0.403099305}, 'model_name': 'deepseek-r1-distill-llama-70b', 'system_fingerprint': 'fp_1bbe7845ec', 'service_tier': 'on_demand', 'finish_reason': 'tool_calls', 'logprobs': None}, id='run--27e931fc-4e91-4a0a-ad0d-d0eb36d18354-0', tool_calls=[{'name': 'search', 'args': {'query': 'weather in Delhi'}, 'id': 'thvrcc82w', 'type': 'tool_call'}], usage_metadata={'input_tokens': 132, 'output_tokens': 76, 'total_tokens': 208})"
      ]
     },
     "execution_count": 15,
     "metadata": {},
     "output_type": "execute_result"
    }
   ],
   "source": [
    "#Testing llm with tools\n",
    "response=llm_with_tools.invoke(\"what is a weather is delhi?\")\n",
    "response"
   ]
  },
  {
   "cell_type": "code",
   "execution_count": 16,
   "id": "778a98e5",
   "metadata": {},
   "outputs": [
    {
     "data": {
      "text/plain": [
       "[{'name': 'search',\n",
       "  'args': {'query': 'weather in Delhi'},\n",
       "  'id': 'thvrcc82w',\n",
       "  'type': 'tool_call'}]"
      ]
     },
     "execution_count": 16,
     "metadata": {},
     "output_type": "execute_result"
    }
   ],
   "source": [
    "response.tool_calls"
   ]
  },
  {
   "cell_type": "code",
   "execution_count": 17,
   "id": "4120efc1",
   "metadata": {},
   "outputs": [],
   "source": [
    "def call_model1(state:MessagesState):\n",
    "    question=state[\"messages\"]\n",
    "    response=llm_with_tools.invoke(question)\n",
    "    return {\"messages\":[response]}"
   ]
  },
  {
   "cell_type": "code",
   "execution_count": 18,
   "id": "2d1ee3a5",
   "metadata": {},
   "outputs": [],
   "source": [
    "#Router function\n",
    "def router_function(state:MessagesState):\n",
    "    last_message = state[\"messages\"][-1]\n",
    "    if last_message.tool_calls:\n",
    "        return \"tools\"\n",
    "    return END"
   ]
  },
  {
   "cell_type": "code",
   "execution_count": 19,
   "id": "059d79b2",
   "metadata": {},
   "outputs": [],
   "source": [
    "#Creating tool node\n",
    "tool_node = ToolNode(tools)\n"
   ]
  },
  {
   "cell_type": "code",
   "execution_count": 20,
   "id": "04f2f32f",
   "metadata": {},
   "outputs": [
    {
     "data": {
      "text/plain": [
       "tools(tags=None, recurse=True, explode_args=False, func_accepts={'config': ('N/A', <class 'inspect._empty'>), 'store': ('store', None)}, tools_by_name={'search': StructuredTool(name='search', description='This is a custom tool for checking weather', args_schema=<class 'langchain_core.utils.pydantic.search'>, func=<function search at 0x0000013B3DFF5260>)}, tool_to_state_args={'search': {}}, tool_to_store_arg={'search': None}, handle_tool_errors=True, messages_key='messages')"
      ]
     },
     "execution_count": 20,
     "metadata": {},
     "output_type": "execute_result"
    }
   ],
   "source": [
    "tool_node"
   ]
  },
  {
   "cell_type": "code",
   "execution_count": 21,
   "id": "383ce985",
   "metadata": {},
   "outputs": [
    {
     "data": {
      "image/png": "[encoded data removed]",
      "text/plain": [
       "<langgraph.graph.state.CompiledStateGraph object at 0x0000013B3F3556D0>"
      ]
     },
     "execution_count": 21,
     "metadata": {},
     "output_type": "execute_result"
    }
   ],
   "source": [
    "#Creating workflow with llm binded tools\n",
    "workflow2 = StateGraph(MessagesState)\n",
    "workflow2.add_node(\"llmwithtool\",call_model1)\n",
    "workflow2.add_node(\"mytools\",tool_node)\n",
    "workflow2.add_edge(START,\"llmwithtool\")\n",
    "workflow2.add_conditional_edges(\"llmwithtool\",router_function,{\"tools\":\"mytools\",END:END})\n",
    "app2 = workflow2.compile()\n",
    "app2\n"
   ]
  },
  {
   "cell_type": "code",
   "execution_count": 22,
   "id": "943d460e",
   "metadata": {},
   "outputs": [
    {
     "data": {
      "text/plain": [
       "'the temp is 45 degree and sunny'"
      ]
     },
     "execution_count": 22,
     "metadata": {},
     "output_type": "execute_result"
    }
   ],
   "source": [
    "response = app2.invoke({\"messages\":[\"How is the weather in delhi?\"]})\n",
    "response[\"messages\"][-1].content"
   ]
  },
  {
   "cell_type": "code",
   "execution_count": 23,
   "id": "2ba5d52d",
   "metadata": {},
   "outputs": [
    {
     "data": {
      "text/plain": [
       "'the temp is 25 degree and cloudy'"
      ]
     },
     "execution_count": 23,
     "metadata": {},
     "output_type": "execute_result"
    }
   ],
   "source": [
    "response = app2.invoke({\"messages\":[\"How is the weather in Bengaluru?\"]})\n",
    "response[\"messages\"][-1].content"
   ]
  },
  {
   "cell_type": "code",
   "execution_count": 24,
   "id": "929f9e45",
   "metadata": {},
   "outputs": [
    {
     "data": {
      "text/plain": [
       "{'messages': [HumanMessage(content='How is the weather in Bengaluru?', additional_kwargs={}, response_metadata={}, id='c14e6a6d-8b93-4111-9d47-b761c6740a6b'),\n",
       "  AIMessage(content='', additional_kwargs={'reasoning_content': 'Okay, the user is asking about the weather in Bengaluru. They mentioned a tool called \"search\" which is used for checking the weather. I need to call this function with the query \"weather in Bengaluru\". \\n\\nFirst, I should make sure that the function name is correctly identified as \"search\". Then, the arguments should be a JSON object with the query parameter set to \"weather in Bengaluru\". \\n\\nSo, the tool call should look like this: {\"name\": \"search\", \"arguments\": {\"query\": \"weather in Bengaluru\"}}. This should be wrapped in <tool_call> tags as specified.\\n\\nI think that\\'s all I need to do. Let me put it all together.\\n', 'tool_calls': [{'id': 'yk7kw6r8s', 'function': {'arguments': '{\"query\":\"weather in Bengaluru\"}', 'name': 'search'}, 'type': 'function'}]}, response_metadata={'token_usage': {'completion_tokens': 173, 'prompt_tokens': 132, 'total_tokens': 305, 'completion_time': 0.657536477, 'prompt_time': 0.020994022, 'queue_time': 0.044169648, 'total_time': 0.678530499}, 'model_name': 'deepseek-r1-distill-llama-70b', 'system_fingerprint': 'fp_76307ac09b', 'service_tier': 'on_demand', 'finish_reason': 'tool_calls', 'logprobs': None}, id='run--ac029a07-7ae3-4d95-a641-9d66cf3d634c-0', tool_calls=[{'name': 'search', 'args': {'query': 'weather in Bengaluru'}, 'id': 'yk7kw6r8s', 'type': 'tool_call'}], usage_metadata={'input_tokens': 132, 'output_tokens': 173, 'total_tokens': 305}),\n",
       "  ToolMessage(content='the temp is 25 degree and cloudy', name='search', id='c672f4a3-3e7e-4ba0-8caa-17dd176f636e', tool_call_id='yk7kw6r8s')]}"
      ]
     },
     "execution_count": 24,
     "metadata": {},
     "output_type": "execute_result"
    }
   ],
   "source": [
    "response = app2.invoke({\"messages\":[\"How is the weather in Bengaluru?\"]})\n",
    "response"
   ]
  },
  {
   "cell_type": "code",
   "execution_count": 25,
   "id": "1e61f093",
   "metadata": {},
   "outputs": [
    {
     "name": "stderr",
     "output_type": "stream",
     "text": [
      "Adding an edge to a graph that has already been compiled. This will not be reflected in the compiled graph.\n"
     ]
    },
    {
     "data": {
      "image/png": "[encoded data removed]",
      "text/plain": [
       "<langgraph.graph.state.CompiledStateGraph object at 0x0000013B3F1E3110>"
      ]
     },
     "execution_count": 25,
     "metadata": {},
     "output_type": "execute_result"
    }
   ],
   "source": [
    "workflow2.add_edge(\"mytools\",\"llmwithtool\")\n",
    "app3=workflow2.compile()\n",
    "app3"
   ]
  },
  {
   "cell_type": "code",
   "execution_count": 26,
   "id": "c8fd4e8d",
   "metadata": {},
   "outputs": [
    {
     "name": "stdout",
     "output_type": "stream",
     "text": [
      "Output from llmwithtool Node\n",
      "_______\n",
      "{'messages': [AIMessage(content='', additional_kwargs={'reasoning_content': 'Okay, the user is asking about the weather in Delhi. I need to use the search tool to find this information. Let me structure the function call correctly. The tool name is \"search\" and the argument is the query string. So, I should format it as a JSON object inside the tool_call tag. I\\'ll set the name to \"search\" and the arguments to {\"query\": \"weather in Delhi\"}. That should do it.\\n', 'tool_calls': [{'id': '6wzyegrpt', 'function': {'arguments': '{\"query\":\"weather in Delhi\"}', 'name': 'search'}, 'type': 'function'}]}, response_metadata={'token_usage': {'completion_tokens': 115, 'prompt_tokens': 130, 'total_tokens': 245, 'completion_time': 0.495802164, 'prompt_time': 0.021058252, 'queue_time': 0.045993658, 'total_time': 0.516860416}, 'model_name': 'deepseek-r1-distill-llama-70b', 'system_fingerprint': 'fp_76307ac09b', 'service_tier': 'on_demand', 'finish_reason': 'tool_calls', 'logprobs': None}, id='run--008538bd-26b5-4da8-8bcd-a80b65b1dd3a-0', tool_calls=[{'name': 'search', 'args': {'query': 'weather in Delhi'}, 'id': '6wzyegrpt', 'type': 'tool_call'}], usage_metadata={'input_tokens': 130, 'output_tokens': 115, 'total_tokens': 245})]}\n",
      "\n",
      "\n",
      "Output from mytools Node\n",
      "_______\n",
      "{'messages': [ToolMessage(content='the temp is 45 degree and sunny', name='search', id='38a96963-6cbb-4f30-86bb-1f0a1ea5b7a4', tool_call_id='6wzyegrpt')]}\n",
      "\n",
      "\n",
      "Output from llmwithtool Node\n",
      "_______\n",
      "{'messages': [AIMessage(content='The current weather in Delhi is 45 degrees and sunny.', additional_kwargs={'reasoning_content': 'Okay, so the user asked about the weather in Delhi. I need to use the tool provided to get that information.\\n\\nFirst, I\\'ll call the search function with \"weather in Delhi\" as the query.\\n\\nThe tool response says it\\'s 45 degrees and sunny. That\\'s pretty hot!\\n\\nI should let the user know it\\'s 45 degrees and sunny in Delhi.\\n'}, response_metadata={'token_usage': {'completion_tokens': 92, 'prompt_tokens': 187, 'total_tokens': 279, 'completion_time': 0.451582521, 'prompt_time': 0.027955107, 'queue_time': 0.049347863, 'total_time': 0.479537628}, 'model_name': 'deepseek-r1-distill-llama-70b', 'system_fingerprint': 'fp_1bbe7845ec', 'service_tier': 'on_demand', 'finish_reason': 'stop', 'logprobs': None}, id='run--a14291f1-a7ce-463b-8565-ce8bf26ad9fd-0', usage_metadata={'input_tokens': 187, 'output_tokens': 92, 'total_tokens': 279})]}\n",
      "\n",
      "\n"
     ]
    }
   ],
   "source": [
    "for output in app3.stream({\"messages\":[\"What is the weather in Delhi\"]}):\n",
    "    for key,value in output.items():\n",
    "        print(f\"Output from {key} Node\")\n",
    "        print(\"_______\")\n",
    "        print(value)\n",
    "        print(\"\\n\")"
   ]
  },
  {
   "cell_type": "code",
   "execution_count": 27,
   "id": "331ec990",
   "metadata": {},
   "outputs": [
    {
     "name": "stdout",
     "output_type": "stream",
     "text": [
      "Output from llmwithtool Node\n",
      "_______\n",
      "{'messages': [AIMessage(content='', additional_kwargs={'reasoning_content': 'Okay, so the user asked about the weather in Delhi and also for good hotels in North Delhi. First, I should handle the weather part. I remember there\\'s a tool called \"search\" that can be used for checking the weather. I need to call that function with \"Delhi weather\" as the query. \\n\\nAfter that, for the hotels, I don\\'t have a specific tool mentioned for that, but maybe I can use the same search tool with a different query, like \"good hotels in North Delhi\". I\\'ll format both function calls in the required XML structure.\\n', 'tool_calls': [{'id': '1tzt9sk1z', 'function': {'arguments': '{\"query\":\"Delhi weather\"}', 'name': 'search'}, 'type': 'function'}]}, response_metadata={'token_usage': {'completion_tokens': 165, 'prompt_tokens': 142, 'total_tokens': 307, 'completion_time': 0.672180915, 'prompt_time': 0.023972974, 'queue_time': 0.045849316, 'total_time': 0.696153889}, 'model_name': 'deepseek-r1-distill-llama-70b', 'system_fingerprint': 'fp_76307ac09b', 'service_tier': 'on_demand', 'finish_reason': 'tool_calls', 'logprobs': None}, id='run--24da818b-44ac-4da8-bbaf-e77a2571484f-0', tool_calls=[{'name': 'search', 'args': {'query': 'Delhi weather'}, 'id': '1tzt9sk1z', 'type': 'tool_call'}], usage_metadata={'input_tokens': 142, 'output_tokens': 165, 'total_tokens': 307})]}\n",
      "\n",
      "\n",
      "Output from mytools Node\n",
      "_______\n",
      "{'messages': [ToolMessage(content='the temp is 45 degree and sunny', name='search', id='d24a90b6-120c-469c-9e59-730412b1841c', tool_call_id='1tzt9sk1z')]}\n",
      "\n",
      "\n",
      "Output from llmwithtool Node\n",
      "_______\n",
      "{'messages': [AIMessage(content='Here are some good hotels to stay in North Delhi:\\n\\n1. **Hotel City Park**  \\n   Address: Opposite BTW Depot, Lawrence Road, North Delhi  \\n   A comfortable and convenient option with modern amenities.\\n\\n2. **Hotel Regent Continental**  \\n   Address: Rohtak Road, Near Peera Garhi Chowk, North Delhi  \\n   Offers cozy rooms and a warm atmosphere.\\n\\n3. **Hotel Sparrow**  \\n   Address: Plot No. 3, Pocket A2, Sector 8, Rohini, North Delhi  \\n   A budget-friendly option with essential facilities.\\n\\n4. **Hotel Shanti Palace**  \\n   Address: Plot No. 1, Friends Colony, Sector 9, Rohini, North Delhi  \\n   Known for its clean rooms and good service.\\n\\n5. **Hotel Royal Mirage**  \\n   Address: Plot No. 21, Community Centre, Sector 5, Rohini, North Delhi  \\n   A great choice for a comfortable stay.\\n\\nFor more specific preferences or real-time availability, you can check platforms like Booking.com or Google Maps.', additional_kwargs={'reasoning_content': \"Okay, so the user first asked about the weather in Delhi and for good hotels in North Delhi. I used the search tool to find the weather, which came back as 45 degrees and sunny. Now, the user is asking again about hotels in North Delhi.\\n\\nI need to provide a helpful response. Since I don't have real-time data, I'll suggest some well-known areas and hotels based on common knowledge. I'll mention places like Pitampura, Rohini, and Lawrence Road because they are popular in North Delhi. I'll list a few hotels with their addresses and maybe a brief description to give the user options. Also, I should advise them to check reviews and availability online for the most current information. Keeping it friendly and helpful is key here.\\n\"}, response_metadata={'token_usage': {'completion_tokens': 380, 'prompt_tokens': 201, 'total_tokens': 581, 'completion_time': 1.717605694, 'prompt_time': 0.034631633, 'queue_time': 0.044880467, 'total_time': 1.752237327}, 'model_name': 'deepseek-r1-distill-llama-70b', 'system_fingerprint': 'fp_76307ac09b', 'service_tier': 'on_demand', 'finish_reason': 'stop', 'logprobs': None}, id='run--f767c2f7-8443-47e5-8c9b-53725320566e-0', usage_metadata={'input_tokens': 201, 'output_tokens': 380, 'total_tokens': 581})]}\n",
      "\n",
      "\n"
     ]
    }
   ],
   "source": [
    "for output in app3.stream({\"messages\":[\"What is the weather in Delhi.Can you tell me good hotels to stay in North Delhi?\"]}):\n",
    "    for key,value in output.items():\n",
    "        print(f\"Output from {key} Node\")\n",
    "        print(\"_______\")\n",
    "        print(value)\n",
    "        print(\"\\n\")"
   ]
  },
  {
   "cell_type": "code",
   "execution_count": 28,
   "id": "82f9a7f3",
   "metadata": {},
   "outputs": [],
   "source": [
    "#Memory part understanding\n",
    "from langgraph.checkpoint.memory import MemorySaver\n",
    "memory = MemorySaver()"
   ]
  },
  {
   "cell_type": "code",
   "execution_count": 29,
   "id": "9b53f250",
   "metadata": {},
   "outputs": [
    {
     "data": {
      "text/plain": [
       "<langgraph.graph.state.StateGraph at 0x13b3f1e2e90>"
      ]
     },
     "execution_count": 29,
     "metadata": {},
     "output_type": "execute_result"
    }
   ],
   "source": [
    "#Adding workflow for memory\n",
    "workflow3=StateGraph(MessagesState)\n",
    "workflow3.add_node(\"llmwithtool\",call_model1)\n",
    "workflow3.add_node(\"mytools\",tool_node)\n",
    "workflow3.add_edge(START,\"llmwithtool\")\n",
    "workflow3.add_conditional_edges(\"llmwithtool\",\n",
    "                                router_function,\n",
    "                                {\"tools\":\"mytools\",\n",
    "                                 END:END})\n",
    "workflow3.add_edge(\"mytools\",\"llmwithtool\")\n",
    "workflow3.add_edge(\"llmwithtool\", END)"
   ]
  },
  {
   "cell_type": "code",
   "execution_count": 30,
   "id": "c8466cb9",
   "metadata": {},
   "outputs": [
    {
     "data": {
      "image/png": "[encoded data removed]",
      "text/plain": [
       "<langgraph.graph.state.CompiledStateGraph object at 0x0000013B3F347BB0>"
      ]
     },
     "execution_count": 30,
     "metadata": {},
     "output_type": "execute_result"
    }
   ],
   "source": [
    "app4 = workflow3.compile(checkpointer=memory)\n",
    "app4"
   ]
  },
  {
   "cell_type": "code",
   "execution_count": 31,
   "id": "4ed425ca",
   "metadata": {},
   "outputs": [],
   "source": [
    "config = {\"configurable\":{\"thread_id\":1}}\n",
    "events=app4.stream(\n",
    "    {\"messages\":[\"What is a weather in delhi?\"]},config=config,stream_mode=\"values\"\n",
    ")"
   ]
  },
  {
   "cell_type": "code",
   "execution_count": 32,
   "id": "375f7c0a",
   "metadata": {},
   "outputs": [
    {
     "name": "stdout",
     "output_type": "stream",
     "text": [
      "================================\u001b[1m Human Message \u001b[0m=================================\n",
      "\n",
      "What is a weather in delhi?\n",
      "==================================\u001b[1m Ai Message \u001b[0m==================================\n",
      "Tool Calls:\n",
      "  search (58kt9dzfs)\n",
      " Call ID: 58kt9dzfs\n",
      "  Args:\n",
      "    query: weather in Delhi\n",
      "=================================\u001b[1m Tool Message \u001b[0m=================================\n",
      "Name: search\n",
      "\n",
      "the temp is 45 degree and sunny\n",
      "==================================\u001b[1m Ai Message \u001b[0m==================================\n",
      "\n",
      "Hello! The current weather in Delhi is 45 degrees and sunny. It's quite hot, so make sure to wear light clothing and stay hydrated!\n"
     ]
    }
   ],
   "source": [
    "for event in events:\n",
    "    event[\"messages\"][-1].pretty_print()"
   ]
  },
  {
   "cell_type": "code",
   "execution_count": 33,
   "id": "6c49090e",
   "metadata": {},
   "outputs": [],
   "source": [
    "events=app4.stream(\n",
    "    {\"messages\":[\"What is a weather in indore?\"]},config=config,stream_mode=\"values\"\n",
    ")"
   ]
  },
  {
   "cell_type": "code",
   "execution_count": 34,
   "id": "51d22101",
   "metadata": {},
   "outputs": [
    {
     "name": "stdout",
     "output_type": "stream",
     "text": [
      "================================\u001b[1m Human Message \u001b[0m=================================\n",
      "\n",
      "What is a weather in indore?\n",
      "==================================\u001b[1m Ai Message \u001b[0m==================================\n",
      "Tool Calls:\n",
      "  search (58kt9dzfs)\n",
      " Call ID: 58kt9dzfs\n",
      "  Args:\n",
      "    query: weather in Indore\n",
      "=================================\u001b[1m Tool Message \u001b[0m=================================\n",
      "Name: search\n",
      "\n",
      "the temp is 25 degree and cloudy\n",
      "==================================\u001b[1m Ai Message \u001b[0m==================================\n",
      "\n",
      "Hello! The current weather in Indore is 25 degrees and cloudy. It's a pleasant day, perfect for outdoor activities!\n"
     ]
    }
   ],
   "source": [
    "for event in events:\n",
    "    event[\"messages\"][-1].pretty_print()"
   ]
  },
  {
   "cell_type": "code",
   "execution_count": 35,
   "id": "fc008c98",
   "metadata": {},
   "outputs": [
    {
     "data": {
      "text/plain": [
       "{'configurable': {'thread_id': 1}}"
      ]
     },
     "execution_count": 35,
     "metadata": {},
     "output_type": "execute_result"
    }
   ],
   "source": [
    "config"
   ]
  },
  {
   "cell_type": "code",
   "execution_count": 36,
   "id": "94ee7b9a",
   "metadata": {},
   "outputs": [],
   "source": [
    "memory.get(config)"
   ]
  },
  {
   "cell_type": "code",
   "execution_count": 37,
   "id": "41721ba4",
   "metadata": {},
   "outputs": [
    {
     "name": "stdout",
     "output_type": "stream",
     "text": [
      "================================\u001b[1m Human Message \u001b[0m=================================\n",
      "\n",
      "in which city the temp was 25 degree?\n",
      "==================================\u001b[1m Ai Message \u001b[0m==================================\n",
      "\n",
      "The temperature of 25 degrees was in **Indore**. It was a pleasant, cloudy day there!\n"
     ]
    }
   ],
   "source": [
    "events=app4.stream(\n",
    "    {\"messages\":[\"in which city the temp was 25 degree?\"]},config=config,stream_mode=\"values\"\n",
    "    )\n",
    "for event in events:\n",
    "    event[\"messages\"][-1].pretty_print()"
   ]
  }
 ],
 "metadata": {
  "kernelspec": {
   "display_name": "venv",
   "language": "python",
   "name": "python3"
  },
  "language_info": {
   "codemirror_mode": {
    "name": "ipython",
    "version": 3
   },
   "file_extension": ".py",
   "mimetype": "text/x-python",
   "name": "python",
   "nbconvert_exporter": "python",
   "pygments_lexer": "ipython3",
   "version": "3.13.0"
  }
 },
 "nbformat": 4,
 "nbformat_minor": 5
}
