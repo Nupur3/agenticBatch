{
 "cells": [
  {
   "cell_type": "code",
   "execution_count": 13,
   "id": "16d98341",
   "metadata": {},
   "outputs": [
    {
     "data": {
      "image/png": "[encoded data removed]",
      "text/plain": [
       "<IPython.core.display.Image object>"
      ]
     },
     "metadata": {},
     "output_type": "display_data"
    },
    {
     "name": "stdout",
     "output_type": "stream",
     "text": [
      "{'text': 'Nupur from first function. Gulati from second function.'}\n"
     ]
    }
   ],
   "source": [
    "from langgraph.graph import StateGraph\n",
    "from typing_extensions import TypedDict\n",
    "\n",
    "class MyState(TypedDict):\n",
    "    text: str\n",
    "\n",
    "workflow = StateGraph(MyState)\n",
    "\n",
    "def function1(state:MyState):\n",
    "    return {\"text\": state[\"text\"] + \" from first function.\"}\n",
    "def function2(state:MyState):\n",
    "    return {\"text\": state[\"text\"] + \" Gulati from second function.\"}\n",
    "\n",
    "workflow.add_node(\"funct1\",function1)\n",
    "workflow.add_node(\"funct2\",function2)\n",
    "workflow.add_edge(\"funct1\",\"funct2\")\n",
    "workflow.set_entry_point(\"funct1\")\n",
    "workflow.set_finish_point(\"funct2\")\n",
    "\n",
    "app = workflow.compile()\n",
    "\n",
    "from IPython.display import Image,display\n",
    "display(Image(app.get_graph().draw_mermaid_png()))\n",
    "print(app.invoke({\"text\":\"Nupur\"}))\n"
   ]
  },
  {
   "cell_type": "code",
   "execution_count": null,
   "id": "de02b626",
   "metadata": {},
   "outputs": [],
   "source": []
  }
 ],
 "metadata": {
  "kernelspec": {
   "display_name": "venv",
   "language": "python",
   "name": "python3"
  },
  "language_info": {
   "codemirror_mode": {
    "name": "ipython",
    "version": 3
   },
   "file_extension": ".py",
   "mimetype": "text/x-python",
   "name": "python",
   "nbconvert_exporter": "python",
   "pygments_lexer": "ipython3",
   "version": "3.13.0"
  }
 },
 "nbformat": 4,
 "nbformat_minor": 5
}
