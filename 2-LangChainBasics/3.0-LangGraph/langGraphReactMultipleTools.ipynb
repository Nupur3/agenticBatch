{
 "cells": [
  {
   "cell_type": "code",
   "execution_count": 1,
   "id": "8270a66e",
   "metadata": {},
   "outputs": [
    {
     "name": "stderr",
     "output_type": "stream",
     "text": [
      "d:\\agenticBatch\\venv\\Lib\\site-packages\\requests\\__init__.py:86: RequestsDependencyWarning: Unable to find acceptable character detection dependency (chardet or charset_normalizer).\n",
      "  warnings.warn(\n"
     ]
    }
   ],
   "source": [
    "import os\n",
    "from dotenv import load_dotenv\n",
    "load_dotenv()\n",
    "os.environ[\"OPENAI_API_KEY\"] = os.getenv(\"OPENAI_API_KEY\")\n",
    "\n",
    "#Initialize the model\n",
    "from langchain_openai import ChatOpenAI\n",
    "model = ChatOpenAI()"
   ]
  },
  {
   "cell_type": "code",
   "execution_count": 2,
   "id": "521c9846",
   "metadata": {},
   "outputs": [],
   "source": [
    "from langchain.tools import tool\n",
    "\n",
    "@tool\n",
    "def multiply(a: float, b: float) -> float:\n",
    "    \"\"\"\n",
    "    Multiply two float.\n",
    "\n",
    "    Args:\n",
    "        a (float): The first float.\n",
    "        b (float): The second float.\n",
    "\n",
    "    Returns:\n",
    "        float: The product of a and b.\n",
    "    \"\"\"\n",
    "    return a * b\n",
    "\n",
    "@tool\n",
    "def add(a:float,b:float)->float:\n",
    "    \"\"\"\n",
    "    Add two float.\n",
    "\n",
    "    Args:\n",
    "        a (float): The first integer.\n",
    "        b (float): The second integer.\n",
    "\n",
    "    Returns:\n",
    "        float: The addition of a and b.\n",
    "    \"\"\"\n",
    "    return a+b \n",
    "\n",
    "@tool\n",
    "def divide(a:float,b:float)->float:\n",
    "    \"\"\"\n",
    "    Divide two float.\n",
    "\n",
    "    Args:\n",
    "        a (float): The first integer.\n",
    "        b (float): The second integer.\n",
    "\n",
    "    Returns:\n",
    "        float: The division of a and b.\n",
    "    \"\"\"\n",
    "    if b == 0:\n",
    "        raise ValueError(\"Denominator cannot be 0\")\n",
    "    return a/b"
   ]
  },
  {
   "cell_type": "code",
   "execution_count": 3,
   "id": "65c2c794",
   "metadata": {},
   "outputs": [],
   "source": [
    "#Inbuilt tool\n",
    "#DuckDuckGoSearchRun is for structured results Travily is for raw results\n",
    "#Provide a doc string without doc string custom tool cannot be created\n",
    "from langchain_community.tools import DuckDuckGoSearchRun\n",
    "search = DuckDuckGoSearchRun()\n",
    "tools = [multiply,add,divide,search]\n",
    "llm_with_tools=model.bind_tools(tools)"
   ]
  },
  {
   "cell_type": "code",
   "execution_count": 4,
   "id": "6709a3c6",
   "metadata": {},
   "outputs": [],
   "source": [
    "#Creation of workflows\n",
    "from langchain_core.messages import HumanMessage,AIMessage,SystemMessage\n",
    "from langgraph.graph import StateGraph,MessagesState,START,END\n",
    "from langgraph.prebuilt import ToolNode,tools_condition\n",
    "llm_with_tools=model.bind_tools(tools)\n",
    "SYSTEM_PROMPT = SystemMessage(\n",
    "    content=\"You are a helpful assistant tasked with using search, the yahoo finance tool and performing arithmetic on a set of inputs.\"\n",
    ")\n",
    "def function_1(state:MessagesState):\n",
    "    user_question=state[\"messages\"]\n",
    "    \n",
    "    input_question = [SYSTEM_PROMPT]+user_question\n",
    "\n",
    "    response = llm_with_tools.invoke(input_question)\n",
    "    \n",
    "    return {\n",
    "        \"messages\":[response]\n",
    "    }"
   ]
  },
  {
   "cell_type": "code",
   "execution_count": 5,
   "id": "a5c356dd",
   "metadata": {},
   "outputs": [
    {
     "data": {
      "text/plain": [
       "<langgraph.graph.state.StateGraph at 0x1d6960d5d30>"
      ]
     },
     "execution_count": 5,
     "metadata": {},
     "output_type": "execute_result"
    }
   ],
   "source": [
    "workflow = StateGraph(MessagesState)\n",
    "workflow.add_node(\"llmdecisionstep\",function_1)\n",
    "workflow.add_node(ToolNode(tools))\n",
    "workflow.add_edge(START,\"llmdecisionstep\")\n",
    "workflow.add_conditional_edges(\"llmdecisionstep\",tools_condition,)\n",
    "workflow.add_edge(\"tools\",\"llmdecisionstep\")"
   ]
  },
  {
   "cell_type": "code",
   "execution_count": 6,
   "id": "73e9f7e5",
   "metadata": {},
   "outputs": [
    {
     "data": {
      "image/png": "[encoded data removed]",
      "text/plain": [
       "<langgraph.graph.state.CompiledStateGraph object at 0x000001D6960D6F90>"
      ]
     },
     "execution_count": 6,
     "metadata": {},
     "output_type": "execute_result"
    }
   ],
   "source": [
    "app=workflow.compile()\n",
    "app"
   ]
  },
  {
   "cell_type": "code",
   "execution_count": 7,
   "id": "7f62198b",
   "metadata": {},
   "outputs": [
    {
     "data": {
      "text/plain": [
       "{'messages': [HumanMessage(content='hi hello how are you?', additional_kwargs={}, response_metadata={}, id='87793e9d-29ad-468d-888a-d5bfb8115c1c'),\n",
       "  AIMessage(content=\"Hello! I'm just a computer program, but I'm here and ready to help you with whatever you need. How can I assist you today?\", additional_kwargs={'reasoning_content': 'Alright, the user greeted me with \"hi hello how are you?\" which is a friendly opening. I need to respond in a way that\\'s welcoming and sets the stage for them to ask for help. I should acknowledge their greeting and offer my assistance. Since they mentioned \"how are you,\" I\\'ll keep it brief and polite. I want to make sure they feel comfortable asking for whatever they need next. So, I\\'ll say something like, \"Hello! I\\'m just a computer program, but I\\'m here and ready to help you with whatever you need. How can I assist you today?\" That should cover it.\\n'}, response_metadata={'token_usage': {'completion_tokens': 161, 'prompt_tokens': 417, 'total_tokens': 578, 'completion_time': 0.715419014, 'prompt_time': 0.053732506, 'queue_time': 0.048662324, 'total_time': 0.76915152}, 'model_name': 'deepseek-r1-distill-llama-70b', 'system_fingerprint': 'fp_1bbe7845ec', 'service_tier': 'on_demand', 'finish_reason': 'stop', 'logprobs': None}, id='run--a9dfdc39-6306-4661-b0e2-972ad9876475-0', usage_metadata={'input_tokens': 417, 'output_tokens': 161, 'total_tokens': 578})]}"
      ]
     },
     "execution_count": 7,
     "metadata": {},
     "output_type": "execute_result"
    }
   ],
   "source": [
    "state={\"messages\":[\"hi hello how are you?\"]}\n",
    "result=app.invoke(state)\n",
    "result"
   ]
  },
  {
   "cell_type": "code",
   "execution_count": 8,
   "id": "2352bb97",
   "metadata": {},
   "outputs": [
    {
     "name": "stderr",
     "output_type": "stream",
     "text": [
      "d:\\agenticBatch\\venv\\Lib\\site-packages\\langchain_community\\utilities\\duckduckgo_search.py:63: RuntimeWarning: This package (`duckduckgo_search`) has been renamed to `ddgs`! Use `pip install ddgs` instead.\n",
      "  with DDGS() as ddgs:\n"
     ]
    },
    {
     "data": {
      "text/plain": [
       "AIMessage(content=\"2 times Narendra Modi's age (as of 2023) is **146**.\", additional_kwargs={'reasoning_content': 'Alright, so the user is asking, \"What is 2 times of narendramodi\\'s age?\" First, I need to figure out Narendra Modi\\'s current age. I remember that he was born in 1950, so I\\'ll do a quick calculation. As of 2023, he would be 73 years old. \\n\\nNext, the user wants to multiply his age by 2. That seems straightforward. I\\'ll use the multiply tool for this. I\\'ll input 2 and 73 into the tool. \\n\\nAfter performing the multiplication, I get 146. So, 2 times Narendra Modi\\'s age as of 2023 is 146. I should present this answer clearly to the user.\\n'}, response_metadata={'token_usage': {'completion_tokens': 169, 'prompt_tokens': 860, 'total_tokens': 1029, 'completion_time': 0.726319554, 'prompt_time': 0.092619768, 'queue_time': 0.050909753, 'total_time': 0.818939322}, 'model_name': 'deepseek-r1-distill-llama-70b', 'system_fingerprint': 'fp_76307ac09b', 'service_tier': 'on_demand', 'finish_reason': 'stop', 'logprobs': None}, id='run--ec2721c1-a1f3-4459-8f44-a21b50ed7b18-0', usage_metadata={'input_tokens': 860, 'output_tokens': 169, 'total_tokens': 1029})"
      ]
     },
     "execution_count": 8,
     "metadata": {},
     "output_type": "execute_result"
    }
   ],
   "source": [
    "state={\"messages\":[\"What is 2 times of narendramodi's age?\"]}\n",
    "result=app.invoke(state)\n",
    "result[\"messages\"][-1]"
   ]
  },
  {
   "cell_type": "code",
   "execution_count": 9,
   "id": "370ea180",
   "metadata": {},
   "outputs": [
    {
     "data": {
      "text/plain": [
       "'The speed of light in meters per second is approximately \\\\(299,792,458 \\\\, \\\\text{m/s}\\\\). Multiplying this by 10 gives:\\n\\n\\\\[\\n299,792,458 \\\\times 10 = 2,997,924,580 \\\\, \\\\text{m/s}\\n\\\\]\\n\\nSo, the result is \\\\(2,997,924,580 \\\\, \\\\text{m/s}\\\\).'"
      ]
     },
     "execution_count": 9,
     "metadata": {},
     "output_type": "execute_result"
    }
   ],
   "source": [
    "state={\"messages\":[\"What is the speed of light in m/s and multiply it by 10?\"]}\n",
    "result=app.invoke(state)\n",
    "result[\"messages\"][-1].content"
   ]
  },
  {
   "cell_type": "code",
   "execution_count": 10,
   "id": "6741fdd9",
   "metadata": {},
   "outputs": [
    {
     "data": {
      "text/plain": [
       "{'messages': [HumanMessage(content='What is the speed of light in m/s and multiply it by 10?', additional_kwargs={}, response_metadata={}, id='269a7c95-74ea-4c51-bcfc-572d00093d92'),\n",
       "  AIMessage(content='The speed of light in meters per second is approximately \\\\(299,792,458 \\\\, \\\\text{m/s}\\\\). Multiplying this by 10 gives:\\n\\n\\\\[\\n299,792,458 \\\\times 10 = 2,997,924,580 \\\\, \\\\text{m/s}\\n\\\\]\\n\\nSo, the result is \\\\(2,997,924,580 \\\\, \\\\text{m/s}\\\\).', additional_kwargs={'reasoning_content': \"Okay, so the user is asking for the speed of light in meters per second and then to multiply that by 10. First, I need to recall the speed of light. I remember it's a constant, approximately 299,792,458 m/s. \\n\\nNow, the user wants this value multiplied by 10. That seems straightforward. I'll take 299,792,458 and multiply it by 10, which should give me 2,997,924,580. \\n\\nI should present both the original speed and the result of the multiplication clearly. Maybe I'll write it out in a sentence to make it easy to understand. \\n\\nI don't think I need to use any of the provided tools like DuckDuckGo for this because the speed of light is a well-known constant, and the multiplication is simple enough to do manually. \\n\\nSo, I'll just state the speed of light and then the result after multiplying by 10. That should answer the user's question effectively.\\n\"}, response_metadata={'token_usage': {'completion_tokens': 293, 'prompt_tokens': 427, 'total_tokens': 720, 'completion_time': 1.130205402, 'prompt_time': 0.04780338, 'queue_time': 0.050543141, 'total_time': 1.178008782}, 'model_name': 'deepseek-r1-distill-llama-70b', 'system_fingerprint': 'fp_76307ac09b', 'service_tier': 'on_demand', 'finish_reason': 'stop', 'logprobs': None}, id='run--adeda5da-a0c9-4035-820c-d6a661b21cc9-0', usage_metadata={'input_tokens': 427, 'output_tokens': 293, 'total_tokens': 720})]}"
      ]
     },
     "execution_count": 10,
     "metadata": {},
     "output_type": "execute_result"
    }
   ],
   "source": [
    "state={\"messages\":[\"What is the speed of light in m/s and multiply it by 10?\"]}\n",
    "result=app.invoke(state)\n",
    "result"
   ]
  },
  {
   "cell_type": "code",
   "execution_count": 11,
   "id": "12bad3cd",
   "metadata": {},
   "outputs": [
    {
     "data": {
      "text/plain": [
       "{'messages': [HumanMessage(content='What is the speed of light in m/s and multiply it by 10?', additional_kwargs={}, response_metadata={}, id='bd738fd8-79df-4e8f-9ded-548cf583ccbf'),\n",
       "  AIMessage(content='The speed of light in meters per second is approximately \\\\(299,792,458 \\\\, \\\\text{m/s}\\\\). Multiplying this by 10 gives:\\n\\n\\\\[\\n299,792,458 \\\\times 10 = 2,997,924,580 \\\\, \\\\text{m/s}\\n\\\\]\\n\\nSo, the result is \\\\(2,997,924,580 \\\\, \\\\text{m/s}\\\\).', additional_kwargs={'reasoning_content': \"Okay, so the user is asking for the speed of light in meters per second and then to multiply that by 10. First, I need to recall the speed of light. I remember it's a constant, approximately 299,792,458 m/s. \\n\\nNow, the user wants this value multiplied by 10. That seems straightforward. I'll take 299,792,458 and multiply it by 10, which should give me 2,997,924,580. \\n\\nI should present both the original speed and the result of the multiplication clearly. Maybe I'll write it out in a sentence to make it easy to understand. \\n\\nI don't think I need to use any of the provided tools like DuckDuckGo for this because the speed of light is a well-known constant, and the multiplication is simple enough to do manually. \\n\\nSo, I'll just state the speed of light and then the result after multiplying by 10. That should answer the user's question effectively.\\n\"}, response_metadata={'token_usage': {'completion_tokens': 293, 'prompt_tokens': 427, 'total_tokens': 720, 'completion_time': 1.08133676, 'prompt_time': 0.047370276, 'queue_time': 0.048481124, 'total_time': 1.128707036}, 'model_name': 'deepseek-r1-distill-llama-70b', 'system_fingerprint': 'fp_1bbe7845ec', 'service_tier': 'on_demand', 'finish_reason': 'stop', 'logprobs': None}, id='run--90580964-8551-4ff7-a68d-f76315242624-0', usage_metadata={'input_tokens': 427, 'output_tokens': 293, 'total_tokens': 720})]}"
      ]
     },
     "execution_count": 11,
     "metadata": {},
     "output_type": "execute_result"
    }
   ],
   "source": [
    "message = [HumanMessage(content=\"What is the speed of light in m/s and multiply it by 10?\")]\n",
    "response=app.invoke({\"messages\":message})\n",
    "response"
   ]
  },
  {
   "cell_type": "code",
   "execution_count": 12,
   "id": "5b49df4f",
   "metadata": {},
   "outputs": [
    {
     "name": "stdout",
     "output_type": "stream",
     "text": [
      "================================\u001b[1m Human Message \u001b[0m=================================\n",
      "\n",
      "What is the speed of light in m/s and multiply it by 10?\n",
      "==================================\u001b[1m Ai Message \u001b[0m==================================\n",
      "\n",
      "The speed of light in meters per second is approximately \\(299,792,458 \\, \\text{m/s}\\). Multiplying this by 10 gives:\n",
      "\n",
      "\\[\n",
      "299,792,458 \\times 10 = 2,997,924,580 \\, \\text{m/s}\n",
      "\\]\n",
      "\n",
      "So, the result is \\(2,997,924,580 \\, \\text{m/s}\\).\n"
     ]
    }
   ],
   "source": [
    "for m in response[\"messages\"]:\n",
    "    m.pretty_print()"
   ]
  },
  {
   "cell_type": "code",
   "execution_count": 7,
   "id": "384056cc",
   "metadata": {},
   "outputs": [
    {
     "name": "stdout",
     "output_type": "stream",
     "text": [
      "================================\u001b[1m Human Message \u001b[0m=================================\n",
      "\n",
      "What is 2 times of narendramodi's age?\n",
      "==================================\u001b[1m Ai Message \u001b[0m==================================\n",
      "Tool Calls:\n",
      "  multiply (call_XoB22W4FSIgKQSV9tRXAIUBP)\n",
      " Call ID: call_XoB22W4FSIgKQSV9tRXAIUBP\n",
      "  Args:\n",
      "    a: 2\n",
      "    b: 70\n",
      "=================================\u001b[1m Tool Message \u001b[0m=================================\n",
      "Name: multiply\n",
      "\n",
      "140.0\n",
      "==================================\u001b[1m Ai Message \u001b[0m==================================\n",
      "\n",
      "2 times of Narendra Modi's age is 140.\n"
     ]
    }
   ],
   "source": [
    "state={\"messages\":[\"What is 2 times of narendramodi's age?\"]}\n",
    "result=app.invoke(state)\n",
    "for m in result[\"messages\"]:\n",
    "    m.pretty_print()"
   ]
  },
  {
   "cell_type": "code",
   "execution_count": 8,
   "id": "1718a1b2",
   "metadata": {},
   "outputs": [],
   "source": [
    "#Yahoo tool used for finance\n",
    "import yfinance as yf\n"
   ]
  },
  {
   "cell_type": "code",
   "execution_count": 9,
   "id": "30381088",
   "metadata": {},
   "outputs": [],
   "source": [
    "#Tool for checking previous stock closing price\n",
    "@tool\n",
    "def get_stock_price(ticker:str)->str:\n",
    "    \"\"\"\n",
    "    Fetches the previous closing price of stock ticker from yahoo finance\n",
    "    Args:\n",
    "        ticker(str) : The stock ticker symbol(eg 'AAPL','TSLA','NIFTY.BO')\n",
    "    Returns:\n",
    "        str: A message with the stock's previous closing price\n",
    "    \"\"\"\n",
    "    try:\n",
    "        stock = yf.Ticker(ticker)\n",
    "        price = stock.info.get('previousClose')\n",
    "        if price is None:\n",
    "            return f\"Could not fetch price for ticker: '{ticker}'.\"\n",
    "        return f\"The last closing price of {ticker.upper()} was ${price:.2f}.\"\n",
    "    except Exception as e:\n",
    "        return \"Error occured while returning stock price data: {str(e)}\""
   ]
  },
  {
   "cell_type": "code",
   "execution_count": 10,
   "id": "80889743",
   "metadata": {},
   "outputs": [
    {
     "data": {
      "text/plain": [
       "'The last closing price of TSLA was $346.60.'"
      ]
     },
     "execution_count": 10,
     "metadata": {},
     "output_type": "execute_result"
    }
   ],
   "source": [
    "get_stock_price.invoke(\"TSLA\")"
   ]
  },
  {
   "cell_type": "code",
   "execution_count": 11,
   "id": "b7fd288c",
   "metadata": {},
   "outputs": [],
   "source": [
    "tools = [multiply,add,divide,search,get_stock_price]\n",
    "llm_with_tools1=model.bind_tools(tools)"
   ]
  },
  {
   "cell_type": "code",
   "execution_count": 12,
   "id": "0790a959",
   "metadata": {},
   "outputs": [],
   "source": [
    "SYSTEM_MESSAGE = SystemMessage(\n",
    "    content=\"You are a helpful assistant tasked with using search, the yahoo finance tool and performing arithmetic on a set of inputs.\"\n",
    ")\n",
    "def function_1(state:MessagesState):\n",
    "    question = state[\"messages\"]\n",
    "    input_prompt= [SYSTEM_MESSAGE]+question\n",
    "    llm_invoke = llm_with_tools1.invoke(input_prompt)\n",
    "    return {\"messages\":[llm_invoke]}\n"
   ]
  },
  {
   "cell_type": "code",
   "execution_count": 13,
   "id": "1f10d859",
   "metadata": {},
   "outputs": [],
   "source": [
    "workflow = StateGraph(MessagesState)\n",
    "workflow.add_node(\"llmdecisionmakintool\",function_1)\n",
    "workflow.add_node(\"tools\",ToolNode(tools))\n",
    "workflow.add_edge(START,\"llmdecisionmakintool\")\n",
    "workflow.add_conditional_edges(\"llmdecisionmakintool\",tools_condition,)\n",
    "workflow.add_edge(\"tools\",\"llmdecisionmakintool\")\n",
    "workflow.add_edge(\"tools\", END)\n",
    "app=workflow.compile()"
   ]
  },
  {
   "cell_type": "code",
   "execution_count": 14,
   "id": "beb3c403",
   "metadata": {},
   "outputs": [
    {
     "data": {
      "image/png": "[encoded data removed]",
      "text/plain": [
       "<langgraph.graph.state.CompiledStateGraph object at 0x000001D6A688AAD0>"
      ]
     },
     "execution_count": 14,
     "metadata": {},
     "output_type": "execute_result"
    }
   ],
   "source": [
    "app"
   ]
  },
  {
   "cell_type": "code",
   "execution_count": 15,
   "id": "125e6024",
   "metadata": {},
   "outputs": [
    {
     "name": "stderr",
     "output_type": "stream",
     "text": [
      "d:\\agenticBatch\\venv\\Lib\\site-packages\\langchain_community\\utilities\\duckduckgo_search.py:63: RuntimeWarning: This package (`duckduckgo_search`) has been renamed to `ddgs`! Use `pip install ddgs` instead.\n",
      "  with DDGS() as ddgs:\n"
     ]
    },
    {
     "name": "stdout",
     "output_type": "stream",
     "text": [
      "================================\u001b[1m Human Message \u001b[0m=================================\n",
      "\n",
      "can you give me 2 times of current stock price of Apple with the latest news of the Apple.\n",
      "==================================\u001b[1m Ai Message \u001b[0m==================================\n",
      "Tool Calls:\n",
      "  get_stock_price (call_aitGRqmlMQL4gq9UmQDC6dbb)\n",
      " Call ID: call_aitGRqmlMQL4gq9UmQDC6dbb\n",
      "  Args:\n",
      "    ticker: AAPL\n",
      "  duckduckgo_search (call_1X5h6kUeHQmssXRE8ATQS6rn)\n",
      " Call ID: call_1X5h6kUeHQmssXRE8ATQS6rn\n",
      "  Args:\n",
      "    query: latest news Apple\n",
      "=================================\u001b[1m Tool Message \u001b[0m=================================\n",
      "Name: get_stock_price\n",
      "\n",
      "The last closing price of AAPL was $227.16.\n",
      "=================================\u001b[1m Tool Message \u001b[0m=================================\n",
      "Name: duckduckgo_search\n",
      "\n",
      "Jul 23, 2014 · 按我个人的理解，latest 这个词强调的是时间序列上最靠近现在，而 newest 强调的是新旧的问题。比如说，苹果的 … Breaking news from Hong Kong, China and Asia including geopolitics, diplomacy, economy, technology, lifestyle, … 知乎，中文互联网高质量的问答社区和创作者聚集的原创内容平台，于 2011 年 1 月正式上线，以「让人们更好的分享知识、经验和见 … Latest China news, opinions and analysis, covering Xi Jinping, Beijing's relations with Taiwan and China's tensions with the US. Jul 29, 2025 · Latest Hong Kong China Asia World Business Economy Tech Lifestyle People & Culture Opinion Sport China …\n",
      "==================================\u001b[1m Ai Message \u001b[0m==================================\n",
      "\n",
      "The last closing price of AAPL was $227.16. \n",
      "\n",
      "For the latest news about Apple, please visit the following link for more information: [Latest Apple news](https://duckduckgo.com/?q=latest+news+Apple) \n",
      "\n",
      "Now, to calculate 2 times the current stock price of Apple, the calculation would be:\n",
      "2 times the stock price = 2 x $227.16\n",
      "\n",
      "Let's calculate the result.\n",
      "Tool Calls:\n",
      "  multiply (call_E7dIlsxE1oE5MJn8DuCIt4Ft)\n",
      " Call ID: call_E7dIlsxE1oE5MJn8DuCIt4Ft\n",
      "  Args:\n",
      "    a: 227.16\n",
      "    b: 2\n",
      "=================================\u001b[1m Tool Message \u001b[0m=================================\n",
      "Name: multiply\n",
      "\n",
      "454.32\n",
      "==================================\u001b[1m Ai Message \u001b[0m==================================\n",
      "\n",
      "2 times the current stock price of Apple (AAPL) is $454.32.\n"
     ]
    }
   ],
   "source": [
    "messages = [HumanMessage(content=\"can you give me 2 times of current stock price of Apple with the latest news of the Apple.\")]\n",
    "messages = app.invoke({\"messages\": messages})\n",
    "for m in messages[\"messages\"]:\n",
    "    m.pretty_print()"
   ]
  }
 ],
 "metadata": {
  "kernelspec": {
   "display_name": "venv",
   "language": "python",
   "name": "python3"
  },
  "language_info": {
   "codemirror_mode": {
    "name": "ipython",
    "version": 3
   },
   "file_extension": ".py",
   "mimetype": "text/x-python",
   "name": "python",
   "nbconvert_exporter": "python",
   "pygments_lexer": "ipython3",
   "version": "3.13.0"
  }
 },
 "nbformat": 4,
 "nbformat_minor": 5
}
