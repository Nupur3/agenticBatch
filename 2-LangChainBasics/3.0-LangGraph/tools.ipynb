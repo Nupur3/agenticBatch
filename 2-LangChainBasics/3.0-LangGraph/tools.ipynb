{
 "cells": [
  {
   "cell_type": "code",
   "execution_count": null,
   "id": "5bf340f0",
   "metadata": {},
   "outputs": [],
   "source": [
    "from langchain_community.tools import WikipediaQueryRun\n",
    "from langchain_community.utilities import WikipediaAPIWrapper\n",
    "\n",
    "api_wrapper = WikipediaAPIWrapper(top_k_results=5,doc_content_chars_max=500)\n",
    "\n",
    "wiki_tool =WikipediaQueryRun(api_wrapper=api_wrapper)"
   ]
  },
  {
   "cell_type": "code",
   "execution_count": 3,
   "id": "2e352c13",
   "metadata": {},
   "outputs": [
    {
     "data": {
      "text/plain": [
       "'wikipedia'"
      ]
     },
     "execution_count": 3,
     "metadata": {},
     "output_type": "execute_result"
    }
   ],
   "source": [
    "wiki_tool.name"
   ]
  },
  {
   "cell_type": "code",
   "execution_count": 4,
   "id": "b200b861",
   "metadata": {},
   "outputs": [
    {
     "data": {
      "text/plain": [
       "'A wrapper around Wikipedia. Useful for when you need to answer general questions about people, places, companies, facts, historical events, or other subjects. Input should be a search query.'"
      ]
     },
     "execution_count": 4,
     "metadata": {},
     "output_type": "execute_result"
    }
   ],
   "source": [
    "wiki_tool.description"
   ]
  },
  {
   "cell_type": "code",
   "execution_count": 5,
   "id": "e263298d",
   "metadata": {},
   "outputs": [
    {
     "name": "stderr",
     "output_type": "stream",
     "text": [
      "d:\\agenticBatch\\venv\\Lib\\site-packages\\wikipedia\\wikipedia.py:389: GuessedAtParserWarning: No parser was explicitly specified, so I'm using the best available HTML parser for this system (\"html.parser\"). This usually isn't a problem, but if you run this code on another system, or in a different virtual environment, it may use a different parser and behave differently.\n",
      "\n",
      "The code that caused this warning is on line 389 of the file d:\\agenticBatch\\venv\\Lib\\site-packages\\wikipedia\\wikipedia.py. To get rid of this warning, pass the additional argument 'features=\"html.parser\"' to the BeautifulSoup constructor.\n",
      "\n",
      "  lis = BeautifulSoup(html).find_all('li')\n"
     ]
    },
    {
     "data": {
      "text/plain": [
       "\"Page: Royal Challengers Bengaluru\\nSummary: Royal Challengers Bengaluru, formerly Royal Challengers Bangalore, also known as RCB, are a professional Twenty20 cricket team based in Bengaluru, Karnataka, that competes in the Indian Premier League (IPL). Founded in 2008 by United Spirits, the team's home ground is M. Chinnaswamy Stadium. They won their first title in 2025. The team finished as the runners-up on three occasions: in 2009, 2011, and 2016. They have also qualified for the playoffs in te\""
      ]
     },
     "execution_count": 5,
     "metadata": {},
     "output_type": "execute_result"
    }
   ],
   "source": [
    "wiki_tool.run(\"RCB\")"
   ]
  },
  {
   "cell_type": "code",
   "execution_count": 9,
   "id": "47407b20",
   "metadata": {},
   "outputs": [
    {
     "data": {
      "text/plain": [
       "\"['https://www.youtube.com/watch?v=_S8KoDogUF8&pp=ygUMTnVwdXIgR3VsYXRp', 'https://www.youtube.com/watch?v=X69uXQSc2e0&pp=ygUMTnVwdXIgR3VsYXRp']\""
      ]
     },
     "execution_count": 9,
     "metadata": {},
     "output_type": "execute_result"
    }
   ],
   "source": [
    "# Example 2\n",
    "\n",
    "from langchain_community.tools import YouTubeSearchTool\n",
    "\n",
    "tool = YouTubeSearchTool()\n",
    "\n",
    "result = tool.run(\"Nupur Gulati\")\n",
    "result"
   ]
  },
  {
   "cell_type": "code",
   "execution_count": 1,
   "id": "00af8a3f",
   "metadata": {},
   "outputs": [
    {
     "name": "stderr",
     "output_type": "stream",
     "text": [
      "d:\\agenticBatch\\venv\\Lib\\site-packages\\requests\\__init__.py:86: RequestsDependencyWarning: Unable to find acceptable character detection dependency (chardet or charset_normalizer).\n",
      "  warnings.warn(\n",
      "C:\\Users\\nupur\\AppData\\Local\\Temp\\ipykernel_34296\\1710005021.py:8: LangChainDeprecationWarning: The class `TavilySearchResults` was deprecated in LangChain 0.3.25 and will be removed in 1.0. An updated version of the class exists in the :class:`~langchain-tavily package and should be used instead. To use it run `pip install -U :class:`~langchain-tavily` and import as `from :class:`~langchain_tavily import TavilySearch``.\n",
      "  tool = TavilySearchResults(tavily_api_key=api_key)\n"
     ]
    },
    {
     "data": {
      "text/plain": [
       "[{'title': \"RCB's IPL 2025 trophy parade takes tragic turn as stampede claims ...\",\n",
       "  'url': 'https://www.olympics.com/en/news/royal-challengers-bengaluru-ipl-2025-trophy-parade-stampede',\n",
       "  'content': \"By Andre Pitts 04 June 2025 17:27 GMT+0 2 min read\\n\\nRoyal Challengers Bengaluru's celebrations to mark their IPL 2025 triumph took a tragic turn on Wednesday as 11 people lost their lives and over 30 were left injured in a stampede during the trophy parade outside the M Chinnaswamy Stadium.\\n\\nLakhs of people converged at the M Chinnaswamy Stadium to celebrate RCB’s first-ever Indian Premier League triumph. [...] However, the festivities soon turned into tragedy as the police stationed at the venue struggled to control the huge crowd, resulting in a stampede.\\n\\nIn the aftermath of the tragic incident, RCB released a statement, urging supporters to be safe and amending their celebration program.\",\n",
       "  'score': 0.8014549},\n",
       " {'title': \"Several Killed as RCB's Victory Celebration Turns Deadly - YouTube\",\n",
       "  'url': 'https://www.youtube.com/watch?v=gz8chxY7elU',\n",
       "  'content': \"At least 11 people were killed and 30 injured in a stampede outside the Chinnaswamy cricket stadium in Bengaluru. The incident happened during the Royal Challengers' victory celebrations after their first IPL triumph in 18 years. Did the state government underestimate the rush? Were crowd control measures not in place? Palki Sharma tells you.\\n\\n--- [...] It was supposed to be a day of pure joy, of celebration and pride. Instead, Bengaluru is in shock today. I'm sure you've seen the news and the pictures. Bengaluru was all decked up for a massive celebration today. Their IPL team had finally won the tournament. The Royal Challengers beat Punjab Kings yesterday. It was their first IPL trophy in 18 years. Now the RCB fans are a very passionate lot. Plus they've been waiting for a win since 2008. So they packed the streets of Bengaluru in [...] soon the fan frenzy turned fatal. The exact details are not clear yet but reports say the rush led to a stampede. At least 11 people were killed, including children, and more than 30 were injured. Like I said, the exact sequence of events is unclear, but these pictures give you an idea. Uh you can see fans climbing up fences and trees. In some places, the police pushed back with force. We will show you the pictures, but as always, viewer discretion is advised. [Applause] [Music] [Applause] Such\",\n",
       "  'score': 0.7797419},\n",
       " {'title': \"How did celebration of RCB's historic win in IPL spiral into chaos ...\",\n",
       "  'url': 'https://www.thehindu.com/news/national/karnataka/how-did-celebration-of-rcbs-historic-win-in-ipl-spiral-into-chaos-and-crisis-explained/article69668074.ece',\n",
       "  'content': 'A stampede during RCB’s victory celebrations in Bengaluru on June 4 claimed 11 lives and left several others with injuries, turning a moment of triumph into tragedy. Facing a backlash for mismanagement and hurried planning, the Congress government in Karnataka suspended top police officials [...] A senior officer told _The Hindu_ that police resources were thinly spread across four major events on the same day: RCB’s arrival at HAL airport, their transfer to the team hotel on Race Course Road, the government’s felicitation at Vidhana Soudha, and finally, the celebration at Chinnaswamy stadium. [...] On June 6, MLC K. Govindaraj, who was serving as the Chief Minister’s Political Secretary, was removed from the post. Additional Director General of Police (Intelligence) Hemant M. Nimbalkar was transferred.\\n\\nBengaluru police registered an FIR charging the RCB franchise, the Karnataka State Cricket Association (KSCA), and event manager DNA Network with culpable homicide, voluntarily causing hurt, and unlawful assembly.',\n",
       "  'score': 0.77873385},\n",
       " {'title': \"Bengaluru stampede turns RCB's IPL win celebrations into tragedy\",\n",
       "  'url': 'https://apnews.com/article/india-stampede-rcb-bengaluru-ipl-52bebfd42d1b3c0d072ad31c39a64a28',\n",
       "  'content': \"The incident took place when crowds outside the M. Chinnaswamy Stadium began swarming into the premises, where state authorities were celebrating the Royal Challengers Bengaluru cricket team. The team had on Tuesday finally won the final of the Indian Premier League — the world’s most popular T20 cricket tournament — after 18 years. Joyful crowds had poured into the city streets all night. [...] A woman cries next to the body of 14-year-old Divyanshi Shivakumar, who lost her life in Wednesday's deadly stampede during celebrations outside a stadium for Royal Challengers Bengaluru, winners of the Indian Premier League, at her residence ahead of her last rites in Bengaluru, India, Thursday, June 5, 2025. (AP Photo/Aijaz Rahi) [...] A woman cries next to the body of 14-year-old Divyanshi Shivakumar, who lost her life in Wednesday's deadly stampede during celebrations outside a stadium for Royal Challengers Bengaluru, winners of the Indian Premier League, at her residence ahead of her last rites in Bengaluru, India, Thursday, June 5, 2025. (AP Photo/Aijaz Rahi)\",\n",
       "  'score': 0.7701369},\n",
       " {'title': \"What led to the deadly stampede during RCB's victory celebrations ...\",\n",
       "  'url': 'https://www.youtube.com/watch?v=S5eb3p3kwDc&pp=0gcJCfwAo7VqN5tD',\n",
       "  'content': \"### Description\\n70895 views\\nPosted: 4 Jun 2025\\nBangalore Stampede: RCB’s IPL win brought lakhs to the streets of Bengaluru—but celebration turned into chaos. A stampede near Chinnaswamy Stadium left 11 dead and dozens injured. Miscommunication, crowd mismanagement, and political blame followed. Here’s a breakdown of what happened and why it spiraled out of control.\\n\\n#bangalorestampede #chinnaswamystadium #rcbvictoryparade #rcb #rcbstampede [...] that's all [Applause] I Fire [Applause] [Music] celebrations at Vidan Saud in Bengaluru had begun royal challengers players sat with beaming smile on the dice as the deputy chief minister felicitated the players however just meters away from the Mchinla Swami Stadium where crowd cheered and waited for their champions a tragedy unfolded rcb victory celebrations turned into chaos a stampede occurred near the stadium on Wednesday June 4th 11 people have died and 47 injured in the stampede so what [...] is above all i urge everyone to stay safe and reach home safely former Karnataka Chief Minister HD Kumar Swami expressed shock over the tragic stampede near Bengaluru's Chinaswami stadium during the RCB victory celebrations which resulted in the loss of lives kumar Swami held the Congress-led state government responsible citing a complete lack of planning and failure to implement precautionary measures he urged the administration to ensure the best possible medical care for the injured and\",\n",
       "  'score': 0.76826453}]"
      ]
     },
     "execution_count": 1,
     "metadata": {},
     "output_type": "execute_result"
    }
   ],
   "source": [
    "# Example 3\n",
    "\n",
    "from langchain_community.tools import TavilySearchResults\n",
    "import os\n",
    "\n",
    "api_key = os.getenv(\"TAVILY_API_KEY\")\n",
    "\n",
    "tool = TavilySearchResults(tavily_api_key=api_key)\n",
    "\n",
    "tool.invoke(\"What happened in RCB celebration?\")"
   ]
  }
 ],
 "metadata": {
  "kernelspec": {
   "display_name": "venv",
   "language": "python",
   "name": "python3"
  },
  "language_info": {
   "codemirror_mode": {
    "name": "ipython",
    "version": 3
   },
   "file_extension": ".py",
   "mimetype": "text/x-python",
   "name": "python",
   "nbconvert_exporter": "python",
   "pygments_lexer": "ipython3",
   "version": "3.13.0"
  }
 },
 "nbformat": 4,
 "nbformat_minor": 5
}
