{
 "cells": [
  {
   "cell_type": "code",
   "execution_count": 2,
   "id": "39928a75",
   "metadata": {},
   "outputs": [],
   "source": [
    "#llm\n",
    "from langchain_google_genai import ChatGoogleGenerativeAI\n",
    "model = ChatGoogleGenerativeAI(model='gemini-1.5-flash')"
   ]
  },
  {
   "cell_type": "code",
   "execution_count": 3,
   "id": "20411883",
   "metadata": {},
   "outputs": [],
   "source": [
    "#Embedding\n",
    "from langchain_huggingface import HuggingFaceEmbeddings\n",
    "embeddings = HuggingFaceEmbeddings(model_name=\"BAAI/bge-small-en\")"
   ]
  },
  {
   "cell_type": "code",
   "execution_count": 4,
   "id": "77d092d7",
   "metadata": {},
   "outputs": [],
   "source": [
    "#Take data and embed it and store in vector db\n",
    "from langchain_community.document_loaders import TextLoader, DirectoryLoader\n",
    "from langchain_community.vectorstores import Chroma\n",
    "from langchain_text_splitters import RecursiveCharacterTextSplitter\n",
    "\n",
    "loader = DirectoryLoader(\"../data2\",glob=\"./*.txt\",loader_cls=TextLoader)\n",
    "\n",
    "docs = loader.load()\n",
    "\n",
    "text_splitter = RecursiveCharacterTextSplitter(chunk_size=200, chunk_overlap=50)\n",
    "\n",
    "new_docs = text_splitter.split_documents(docs)\n",
    "\n",
    "#doc_string = [doc.page_content for doc in docs]\n",
    "\n",
    "db = Chroma.from_documents(new_docs, embeddings)\n",
    "\n",
    "retriever = db.as_retriever(search_kwargs={\"k\": 3})"
   ]
  },
  {
   "cell_type": "code",
   "execution_count": 5,
   "id": "ecd85aa0",
   "metadata": {},
   "outputs": [
    {
     "data": {
      "text/plain": [
       "'The output should be formatted as a JSON instance that conforms to the JSON schema below.\\n\\nAs an example, for the schema {\"properties\": {\"foo\": {\"title\": \"Foo\", \"description\": \"a list of strings\", \"type\": \"array\", \"items\": {\"type\": \"string\"}}}, \"required\": [\"foo\"]}\\nthe object {\"foo\": [\"bar\", \"baz\"]} is a well-formatted instance of the schema. The object {\"properties\": {\"foo\": [\"bar\", \"baz\"]}} is not well-formatted.\\n\\nHere is the output schema:\\n```\\n{\"properties\": {\"Topic\": {\"description\": \"selected topic either usa or not usa\", \"title\": \"Topic\", \"type\": \"string\"}, \"Reasoning\": {\"description\": \"Reasoning behind selected topic\", \"title\": \"Reasoning\", \"type\": \"string\"}}, \"required\": [\"Topic\", \"Reasoning\"]}\\n```'"
      ]
     },
     "execution_count": 5,
     "metadata": {},
     "output_type": "execute_result"
    }
   ],
   "source": [
    "#Creation of Pydantic class\n",
    "from pydantic import BaseModel, Field\n",
    "class TopicSelection(BaseModel):\n",
    "    Topic:str=Field(description=\"selected topic either usa or not usa\")\n",
    "    Reasoning:str=Field(description=\"Reasoning behind selected topic\")\n",
    "\n",
    "from langchain.output_parsers import PydanticOutputParser\n",
    "parser = PydanticOutputParser(pydantic_object=TopicSelection)\n",
    "parser.get_format_instructions()"
   ]
  },
  {
   "cell_type": "code",
   "execution_count": 6,
   "id": "94c01199",
   "metadata": {},
   "outputs": [],
   "source": [
    "#Creation of class for work flows\n",
    "from typing import Annotated, Sequence, TypedDict\n",
    "from langchain_core.messages import BaseMessage, HumanMessage\n",
    "import operator\n",
    "class AgentState(TypedDict):\n",
    "    messages: Annotated[Sequence[BaseMessage],operator.add]"
   ]
  },
  {
   "cell_type": "code",
   "execution_count": 7,
   "id": "03130d00",
   "metadata": {},
   "outputs": [
    {
     "data": {
      "text/plain": [
       "{'messages': [HumanMessage(content='What are you doing?', additional_kwargs={}, response_metadata={}),\n",
       "  HumanMessage(content='WHii', additional_kwargs={}, response_metadata={}),\n",
       "  HumanMessage(content='What is GDP of USA?', additional_kwargs={}, response_metadata={})]}"
      ]
     },
     "execution_count": 7,
     "metadata": {},
     "output_type": "execute_result"
    }
   ],
   "source": [
    "# Create an instance\n",
    "state: AgentState = {\"messages\": []}\n",
    "\n",
    "# Append a proper message object\n",
    "state[\"messages\"].append(HumanMessage(content=\"What are you doing?\"))\n",
    "state[\"messages\"].append(HumanMessage(content=\"WHii\"))\n",
    "state[\"messages\"].append(HumanMessage(content=\"What is GDP of USA?\"))\n",
    "\n",
    "state"
   ]
  },
  {
   "cell_type": "code",
   "execution_count": 13,
   "id": "9ab7b529",
   "metadata": {},
   "outputs": [],
   "source": [
    "#Craeting functions/nodes for workflows\n",
    "#Supervisor functin\n",
    "from langchain_core.prompts import PromptTemplate\n",
    "def function_1(state:AgentState):\n",
    "    question = state[\"messages\"][-1]\n",
    "    template=\"\"\"\n",
    "    Your task is to classify the given user query into one of the following categories: [USA,Not Related]. \n",
    "    Only respond with the category name and nothing else.\n",
    "\n",
    "    User query: {question}\n",
    "    {format_instructions}\n",
    "    \"\"\"\n",
    "\n",
    "    prompt = PromptTemplate(\n",
    "        template=template,\n",
    "        input_variables=[\"question\"],\n",
    "        partial_variables={\"format_instructions\":parser.get_format_instructions()}\n",
    "    )\n",
    "    chain = prompt | model | parser\n",
    "\n",
    "    response = chain.invoke({\"question\": question})\n",
    "\n",
    "    print(\"Parsed response\", response)\n",
    "\n",
    "    return {\"messages\" : [response.Topic]}\n"
   ]
  },
  {
   "cell_type": "code",
   "execution_count": 14,
   "id": "aa525255",
   "metadata": {},
   "outputs": [
    {
     "name": "stdout",
     "output_type": "stream",
     "text": [
      "Parsed response Topic='Not Related' Reasoning='The query is a general weather question, not specific to the USA.'\n"
     ]
    },
    {
     "data": {
      "text/plain": [
       "{'messages': ['Not Related']}"
      ]
     },
     "execution_count": 14,
     "metadata": {},
     "output_type": "execute_result"
    }
   ],
   "source": [
    "state ={\"messages\":[\"What is today's weather?\"]}\n",
    "function_1(state)"
   ]
  },
  {
   "cell_type": "code",
   "execution_count": 16,
   "id": "e52c9b03",
   "metadata": {},
   "outputs": [],
   "source": [
    "def format_docs(docs):\n",
    "    return \"\\n\\n\".join(doc.page_content for doc in docs)"
   ]
  },
  {
   "cell_type": "code",
   "execution_count": 17,
   "id": "5bca031d",
   "metadata": {},
   "outputs": [],
   "source": [
    "#RAG function\n",
    "from langchain_core.output_parsers import StrOutputParser\n",
    "from langchain_core.runnables import RunnablePassthrough\n",
    "def function_2(state:AgentState):\n",
    "    print(\"->RAG CALL->\")\n",
    "    question = state[\"messages\"][0]\n",
    "    prompt = PromptTemplate(\n",
    "     template = \n",
    "     \"\"\"\n",
    "     You are an assistant for question-answering tasks. Use the following pieces of retrieved\n",
    "     context to answer the question. If you don't know the answer, just say that you don't know.\n",
    "     Use three sentences maximum and keep the answer concise.\\n\n",
    "     Question: {question} \\n Context: {context} \\n Answer:\n",
    "     \"\"\",\n",
    "     input_variables=[\"context\",\"question\"]\n",
    "    )\n",
    "\n",
    "    rag_chain = (\n",
    "    {\"context\":retriever | format_docs, \"question\":RunnablePassThrough()}\n",
    "    | prompt\n",
    "    | model\n",
    "    | StrOutputParser()\n",
    "    )\n",
    "    result = rag_chain.invoke(question)\n",
    "    return {\"messages\":[result]}\n",
    "\n"
   ]
  },
  {
   "cell_type": "code",
   "execution_count": 19,
   "id": "8aea70f7",
   "metadata": {},
   "outputs": [],
   "source": [
    "#LLM function\n",
    "def function_3(state:AgentState):\n",
    "    print(\"->LLM Call->\")\n",
    "    question = state[\"messages\"][0]\n",
    "    #Normal LLM Call\n",
    "    complete_query = \"Answer the follow question with your knowledge of the real world. Following is the user question:\"+question\n",
    "    response = model.invoke(complete_query)\n",
    "    return {\"messages\":[response.content]}"
   ]
  },
  {
   "cell_type": "code",
   "execution_count": 20,
   "id": "5574af87",
   "metadata": {},
   "outputs": [],
   "source": [
    "def router(state:AgentState):\n",
    "    print(\"->ROUTER->\")\n",
    "    last_message = state[\"messages\"][-1]\n",
    "    print(\"last_message:\",last_message)\n",
    "    if \"usa\" in last_message:\n",
    "        return \"RAG Call\"\n",
    "    else:\n",
    "        return \"LLM Call\"\n"
   ]
  },
  {
   "cell_type": "code",
   "execution_count": 23,
   "id": "15840cf4",
   "metadata": {},
   "outputs": [
    {
     "name": "stdout",
     "output_type": "stream",
     "text": [
      "Parsed response Topic='Not Related' Reasoning=\"The query 'Hi' is a greeting and does not relate to the USA.\"\n",
      "->ROUTER->\n",
      "last_message: Not Related\n",
      "->LLM Call->\n"
     ]
    },
    {
     "data": {
      "text/plain": [
       "{'messages': ['Hi', 'Not Related', 'Hi!  How can I help you today?']}"
      ]
     },
     "execution_count": 23,
     "metadata": {},
     "output_type": "execute_result"
    }
   ],
   "source": [
    "from langgraph.graph import StateGraph, END\n",
    "workflow = StateGraph(AgentState)\n",
    "workflow.add_node(\"Supervisor\",function_1)\n",
    "workflow.add_node(\"RAG\",function_2)\n",
    "workflow.add_node(\"LLM\",function_3)\n",
    "workflow.set_entry_point(\"Supervisor\")\n",
    "workflow.add_conditional_edges(\"Supervisor\",router,{\"RAG Call\":\"RAG\",\"LLM Call\":\"LLM\"})\n",
    "workflow.add_edge(\"RAG\",END)\n",
    "workflow.add_edge(\"LLM\",END)\n",
    "\n",
    "app = workflow.compile()\n",
    "state = {\"messages\":[\"Hi\"]}\n",
    "app.invoke(state)\n"
   ]
  },
  {
   "cell_type": "code",
   "execution_count": 24,
   "id": "390bee97",
   "metadata": {},
   "outputs": [
    {
     "name": "stdout",
     "output_type": "stream",
     "text": [
      "Parsed response Topic='USA' Reasoning=\"The query asks about the industrial growth of the world's most powerful economy, which is generally considered to be the USA.\"\n",
      "->ROUTER->\n",
      "last_message: USA\n",
      "->LLM Call->\n"
     ]
    },
    {
     "data": {
      "text/plain": [
       "'The world\\'s most powerful economy is the United States.  Its industrial growth is complex and doesn\\'t have a single, easily quantifiable number.  Instead, it\\'s characterized by several trends:\\n\\n* **Shifting sectors:**  The US has experienced a significant decline in traditional manufacturing (like steel and autos) relative to its overall economy.  This is a long-term trend, driven by automation, globalization (offshoring of manufacturing), and a shift towards a service-based economy.\\n\\n* **Growth in specific advanced industries:** While overall manufacturing has shrunk as a percentage of GDP, there\\'s been growth in *high-tech* manufacturing sectors. This includes things like pharmaceuticals, aerospace, advanced materials, and computer manufacturing. These sectors often feature higher value-added production and employ skilled labor.\\n\\n* **Automation and productivity:**  Industrial productivity in the US has generally increased over time, due to technological advancements and automation. This means fewer workers can produce more output, but it also raises concerns about job displacement.\\n\\n* **Regional variations:** Industrial growth isn\\'t uniform across the US.  Some states and regions have experienced significant growth in specific sectors, while others have faced decline.\\n\\n* **Impact of global factors:**  Global events, such as pandemics (like COVID-19) and supply chain disruptions, significantly impact US industrial growth.  These events can cause shortages, price increases, and shifts in production patterns.\\n\\n* **Government policies:** Government policies, including trade agreements, tax incentives, and regulations, play a major role in shaping industrial growth.  Recent initiatives focusing on reshoring (bringing manufacturing back to the US) and investing in infrastructure are examples.\\n\\n\\nIn short, there\\'s no single \"industrial growth\" number to provide.  To get a more precise answer, you\\'d need to specify the time period, the specific industrial sector(s) of interest, and the metric used (e.g., GDP contribution, employment numbers, production output).  Data from sources like the US Bureau of Economic Analysis (BEA) and the Federal Reserve would be necessary for a detailed analysis.'"
      ]
     },
     "execution_count": 24,
     "metadata": {},
     "output_type": "execute_result"
    }
   ],
   "source": [
    "state = {\"messages\":[\"Can you tell me industrial growth of world's most powerful economy?\"]}\n",
    "result= app.invoke(state)\n",
    "result[\"messages\"][-1]"
   ]
  },
  {
   "cell_type": "code",
   "execution_count": 25,
   "id": "782adcf5",
   "metadata": {},
   "outputs": [
    {
     "name": "stdout",
     "output_type": "stream",
     "text": [
      "Parsed response Topic='Not Related' Reasoning=\"The query asks about the industrial growth of the world's poorest economy, which is a global topic not limited to the USA.\"\n",
      "->ROUTER->\n",
      "last_message: Not Related\n",
      "->LLM Call->\n"
     ]
    },
    {
     "data": {
      "text/plain": [
       "'There\\'s no single definitive answer to \"the world\\'s most poor economy\" because different metrics (GDP per capita, poverty rates, Human Development Index, etc.) yield different results, and data collection in the poorest countries is often unreliable.  Furthermore, \"industrial growth\" is complex and can be measured in various ways (manufacturing output, industrial employment, etc.).\\n\\nHowever, we can make some general observations:\\n\\n* **Limited Industrial Growth:**  The economies considered the poorest typically have extremely limited industrial growth.  Their economies are largely agrarian, relying heavily on subsistence farming and often lacking the infrastructure, capital, skilled labor, and stable political environments necessary for significant industrial development.\\n\\n* **Challenges to Industrialization:**  These countries face significant hurdles, including:\\n    * **Lack of Infrastructure:**  Poor roads, unreliable electricity, and limited access to transportation hinder industrial activity.\\n    * **Limited Access to Capital:**  Businesses struggle to secure loans and investment for expansion.\\n    * **Lack of Skilled Labor:**  A shortage of educated and trained workers limits productivity.\\n    * **Political Instability and Corruption:**  Unstable political situations and corruption deter investment and economic growth.\\n    * **Dependence on Raw Materials:**  Many rely on exporting raw materials, leaving them vulnerable to price fluctuations and lacking the value-added processing that industrialization brings.\\n    * **Climate Change Impacts:**  Many of the poorest countries are disproportionately affected by climate change, further hindering agricultural output and economic development.\\n\\n* **Potential for Growth, but Significant Barriers:** While there\\'s potential for industrial growth in these economies, overcoming the aforementioned challenges requires substantial international aid, investment, good governance, and effective policies focused on human capital development and infrastructure improvements.\\n\\n\\nIn short, while pinpointing specific industrial growth numbers for \"the world\\'s poorest economy\" is impossible due to data limitations and the fluidity of rankings, it\\'s safe to say that industrial growth in these economies is generally very low and faces immense obstacles.'"
      ]
     },
     "execution_count": 25,
     "metadata": {},
     "output_type": "execute_result"
    }
   ],
   "source": [
    "state = {\"messages\":[\"Can you tell me industrial growth of world's most poor economy?\"]}\n",
    "result= app.invoke(state)\n",
    "result[\"messages\"][-1]"
   ]
  }
 ],
 "metadata": {
  "kernelspec": {
   "display_name": "venv",
   "language": "python",
   "name": "python3"
  },
  "language_info": {
   "codemirror_mode": {
    "name": "ipython",
    "version": 3
   },
   "file_extension": ".py",
   "mimetype": "text/x-python",
   "name": "python",
   "nbconvert_exporter": "python",
   "pygments_lexer": "ipython3",
   "version": "3.13.0"
  }
 },
 "nbformat": 4,
 "nbformat_minor": 5
}
