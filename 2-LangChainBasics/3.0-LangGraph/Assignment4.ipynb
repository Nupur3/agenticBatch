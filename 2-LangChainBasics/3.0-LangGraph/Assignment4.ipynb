{
 "cells": [
  {
   "cell_type": "code",
   "execution_count": 1,
   "id": "f7d84b1b",
   "metadata": {},
   "outputs": [],
   "source": [
    "#You have to create one supervisor node\n",
    "#Create one router function\n",
    "#Create 3 more nodes\n",
    "# 1)LLM Call\n",
    "# 2)RAG Node\n",
    "# 3)Web crawler(fetch the info in real time from internet)\n",
    "#Create one more node after this for validation for generated output -->explore the validation part how to do that\n",
    "#If validation going to be failed in that case go to the supervisor node and then supervisor node will again decide what needs to be called next\n",
    "#Once the validation will pass then only generate the final output"
   ]
  },
  {
   "cell_type": "code",
   "execution_count": 2,
   "id": "6fdf0ac2",
   "metadata": {},
   "outputs": [
    {
     "name": "stderr",
     "output_type": "stream",
     "text": [
      "d:\\agenticBatch\\venv\\Lib\\site-packages\\requests\\__init__.py:86: RequestsDependencyWarning: Unable to find acceptable character detection dependency (chardet or charset_normalizer).\n",
      "  warnings.warn(\n"
     ]
    }
   ],
   "source": [
    "#LLM Model\n",
    "from langchain_google_genai import ChatGoogleGenerativeAI\n",
    "model = ChatGoogleGenerativeAI(model='gemini-1.5-flash')\n",
    "\n",
    "#Embedding\n",
    "from langchain_huggingface import HuggingFaceEmbeddings\n",
    "embeddings = HuggingFaceEmbeddings(model_name=\"BAAI/bge-small-en\")\n",
    "\n",
    "#Retriever\n",
    "from langchain_community.document_loaders import DirectoryLoader, TextLoader\n",
    "loader = DirectoryLoader(\"../data2\",glob=\"./*.txt\",loader_cls=TextLoader)\n",
    "\n",
    "documents = loader.load()\n",
    "len(documents)\n",
    "\n",
    "from langchain_text_splitters import RecursiveCharacterTextSplitter\n",
    "text_splitter = RecursiveCharacterTextSplitter(chunk_size=200, chunk_overlap=50)\n",
    "split_doc = text_splitter.split_documents(documents)\n",
    "#split_doc\n",
    "\n",
    "\n"
   ]
  },
  {
   "cell_type": "code",
   "execution_count": 3,
   "id": "72f4e698",
   "metadata": {},
   "outputs": [],
   "source": [
    "# vector store and retriever\n",
    "from langchain_community.vectorstores import Chroma\n",
    "vector = Chroma.from_documents(split_doc,embeddings)\n",
    "retriever = vector.as_retriever(search_kwargs={\"k\":3})"
   ]
  },
  {
   "cell_type": "code",
   "execution_count": 4,
   "id": "cae5c3b0",
   "metadata": {},
   "outputs": [
    {
     "data": {
      "text/plain": [
       "'The output should be formatted as a JSON instance that conforms to the JSON schema below.\\n\\nAs an example, for the schema {\"properties\": {\"foo\": {\"title\": \"Foo\", \"description\": \"a list of strings\", \"type\": \"array\", \"items\": {\"type\": \"string\"}}}, \"required\": [\"foo\"]}\\nthe object {\"foo\": [\"bar\", \"baz\"]} is a well-formatted instance of the schema. The object {\"properties\": {\"foo\": [\"bar\", \"baz\"]}} is not well-formatted.\\n\\nHere is the output schema:\\n```\\n{\"properties\": {\"Topic\": {\"description\": \"selected topic either usa or india or not usa\", \"title\": \"Topic\", \"type\": \"string\"}, \"Reasoning\": {\"description\": \"Reasoning behind selected topic\", \"title\": \"Reasoning\", \"type\": \"string\"}}, \"required\": [\"Topic\", \"Reasoning\"]}\\n```'"
      ]
     },
     "execution_count": 4,
     "metadata": {},
     "output_type": "execute_result"
    }
   ],
   "source": [
    "from pydantic import BaseModel,Field\n",
    "\n",
    "class TopicSelection(BaseModel):\n",
    "    Topic:str=Field(description=\"selected topic either usa or india or not usa\")\n",
    "    Reasoning:str=Field(description=\"Reasoning behind selected topic\")\n",
    "\n",
    "from langchain_core.output_parsers import PydanticOutputParser\n",
    "parser = PydanticOutputParser(pydantic_object=TopicSelection)\n",
    "parser.get_format_instructions()"
   ]
  },
  {
   "cell_type": "code",
   "execution_count": 5,
   "id": "984f0602",
   "metadata": {},
   "outputs": [],
   "source": [
    "#Creation of class for workflows\n",
    "from typing import TypedDict, Sequence, Annotated\n",
    "import operator\n",
    "from langchain_core.messages import BaseMessage, HumanMessage\n",
    "class AgentState(TypedDict):\n",
    "    messages: Annotated[Sequence[BaseMessage],operator.add]\n",
    "\n",
    "# Create an instance\n",
    "state: AgentState = {\"messages\": []}\n",
    "\n",
    "# Append a proper message object\n",
    "state[\"messages\"].append(HumanMessage(content=\"What are you doing?\"))\n",
    "state[\"messages\"].append(HumanMessage(content=\"WHii\"))\n",
    "state[\"messages\"].append(HumanMessage(content=\"What is GDP of USA?\"))"
   ]
  },
  {
   "cell_type": "code",
   "execution_count": 6,
   "id": "05f98d77",
   "metadata": {},
   "outputs": [],
   "source": [
    "#Supervisor node\n",
    "from langchain_core.prompts import PromptTemplate\n",
    "def function_1(state:AgentState):\n",
    "    print(state)\n",
    "    print(\"-->Supervisor-->\")\n",
    "    question = state[\"messages\"][-1]\n",
    "    print(\"-->1-->\")\n",
    "    template=\"\"\"\n",
    "    Your task is to classify the given user query into one of the following categories: [USA,INDIA,Not Related]. \n",
    "    Only respond with the category name and nothing else.\n",
    "\n",
    "    User query: {question}\n",
    "    {format_instructions}\n",
    "    \"\"\"\n",
    "    print(\"-->2-->\")\n",
    "    prompt = PromptTemplate(\n",
    "        template =template,\n",
    "        input_variables = [\"question\"],\n",
    "        partial_variables = {\"format_instructions\":parser.get_format_instructions()}\n",
    "    )\n",
    "    print(\"-->3-->\")\n",
    "    chain = prompt | model | parser\n",
    "    print(\"-->4-->\")\n",
    "    response = chain.invoke({\"question\":question})\n",
    "    print(\"Parsed response\", response)\n",
    "    return {\"messages\": [response.Topic]}\n"
   ]
  },
  {
   "cell_type": "code",
   "execution_count": 7,
   "id": "5e4a43b0",
   "metadata": {},
   "outputs": [],
   "source": [
    "def format_docs(docs):\n",
    "    return \"\\n\\n\".join(doc.page_content for doc in docs)"
   ]
  },
  {
   "cell_type": "code",
   "execution_count": 8,
   "id": "f8c35f9f",
   "metadata": {},
   "outputs": [],
   "source": [
    "#RAG node\n",
    "from langchain_core.output_parsers import StrOutputParser\n",
    "from langchain_core.runnables import RunnablePassthrough\n",
    "def function_2(state:AgentState):\n",
    "    print(\"-->RAG-->\")\n",
    "    question = state[\"messages\"][0]\n",
    "    template = \"\"\"\n",
    "     You are an assistant for question-answering tasks. Use the following pieces of retrieved\n",
    "     context to answer the question. If you don't know the answer, just say that you don't know.\n",
    "     Use three sentences maximum and keep the answer concise.\\n\n",
    "     Question: {question} \\n Context: {context} \\n Answer:\n",
    "     \"\"\"\n",
    "\n",
    "    prompt = PromptTemplate(\n",
    "        template =template,\n",
    "        input_variables = ['context','question']\n",
    "    )\n",
    "\n",
    "    rag_chain = {\"context\":retriever | format_docs,\"question\":RunnablePassthrough()}| prompt | model | StrOutputParser()\n",
    "\n",
    "    response = rag_chain.invoke(question)\n",
    "    print(\"Response returned\", response)\n",
    "    return {\"messages\": [response]}"
   ]
  },
  {
   "cell_type": "code",
   "execution_count": 9,
   "id": "5dfa4678",
   "metadata": {},
   "outputs": [],
   "source": [
    "#LLM node\n",
    "def function_3(state:AgentState):\n",
    "    print(\"-->LLM-->\")\n",
    "    question = state[\"messages\"][0]\n",
    "    complete_query = \"Answer the follow question with your knowledge of the real world. Following is the user question:\"+question\n",
    "    response = model.invoke(complete_query)\n",
    "    print(\"Response returned\", response.content)\n",
    "    return {\"messages\": [response.content]}"
   ]
  },
  {
   "cell_type": "code",
   "execution_count": 10,
   "id": "f7c807ee",
   "metadata": {},
   "outputs": [
    {
     "name": "stderr",
     "output_type": "stream",
     "text": [
      "C:\\Users\\nupur\\AppData\\Local\\Temp\\ipykernel_34684\\4141831165.py:5: LangChainDeprecationWarning: The class `TavilySearchResults` was deprecated in LangChain 0.3.25 and will be removed in 1.0. An updated version of the class exists in the :class:`~langchain-tavily package and should be used instead. To use it run `pip install -U :class:`~langchain-tavily` and import as `from :class:`~langchain_tavily import TavilySearch``.\n",
      "  tool = TavilySearchResults(tavily_api_key=api_key)\n"
     ]
    }
   ],
   "source": [
    "# TravilySearch/Web crawler(fetch the info in real time from internet)\n",
    "from langchain_community.tools import TavilySearchResults\n",
    "import os\n",
    "api_key = os.getenv(\"TAVILY_API_KEY\")\n",
    "tool = TavilySearchResults(tavily_api_key=api_key)\n",
    "def function_4(state:AgentState):\n",
    "    print(\"-->Tavily-->\")\n",
    "    question = state[\"messages\"][0]\n",
    "    response = tool.invoke(question)\n",
    "    # Extract just the content from first result\n",
    "    if response and isinstance(response, list):\n",
    "        answer = response[0][\"content\"]\n",
    "        print(\"results found:\")\n",
    "    else:\n",
    "        print(\"No results found:\")\n",
    "        answer = \"No results found.\"\n",
    "\n",
    "    print(\"response:\", answer)\n",
    "\n",
    "    return {\"messages\": [answer]}"
   ]
  },
  {
   "cell_type": "code",
   "execution_count": 11,
   "id": "115721fa",
   "metadata": {},
   "outputs": [],
   "source": [
    "#res = function_4({\"messages\":[\"What is the weather in uas?\"]})\n"
   ]
  },
  {
   "cell_type": "code",
   "execution_count": 12,
   "id": "bc1a980d",
   "metadata": {},
   "outputs": [],
   "source": [
    "def router(state:AgentState):\n",
    "    print(\"-->Router-->\")\n",
    "    question = state[\"messages\"][-1].lower()\n",
    "    if \"usa\" in question:\n",
    "        print(\"-->Router:RAG Call-->\")\n",
    "        return \"RAG Call\"\n",
    "    elif \"india\" in question:\n",
    "        print(\"-->Router:WebCrawling Call-->\")\n",
    "        return \"WebCrawling Call\"\n",
    "    else:\n",
    "        print(\"-->Router:LLM Call-->\")\n",
    "        return \"LLM Call\""
   ]
  },
  {
   "cell_type": "code",
   "execution_count": 13,
   "id": "bc86d5da",
   "metadata": {},
   "outputs": [],
   "source": [
    "def validation(state:AgentState):\n",
    "    print(\"-->validation-->\")\n",
    "    response = state[\"messages\"][-1]\n",
    "    if not response or len(response) < 10:\n",
    "        print(\"❌ Validation failed\")\n",
    "        return {\"is_valid\": False}\n",
    "    print(\"✅ Validation passed\")\n",
    "    return {\"is_valid\": True}"
   ]
  },
  {
   "cell_type": "code",
   "execution_count": 14,
   "id": "87649265",
   "metadata": {},
   "outputs": [
    {
     "data": {
      "image/png": "[encoded data removed]",
      "text/plain": [
       "<langgraph.graph.state.CompiledStateGraph object at 0x000001AC548CFB60>"
      ]
     },
     "execution_count": 14,
     "metadata": {},
     "output_type": "execute_result"
    }
   ],
   "source": [
    "#Workflows\n",
    "from langgraph.graph import StateGraph,END\n",
    "workflow = StateGraph(AgentState)\n",
    "workflow.add_node(\"Supervisor\",function_1)\n",
    "workflow.add_node(\"RAG\",function_2)\n",
    "workflow.add_node(\"LLM\",function_3)\n",
    "workflow.add_node(\"WebCrawling\",function_4)\n",
    "workflow.add_node(\"Validation\",validation)\n",
    "workflow.set_entry_point(\"Supervisor\")\n",
    "workflow.add_conditional_edges(\n",
    "    \"Supervisor\",\n",
    "    router,\n",
    "    {\n",
    "        \"RAG Call\":\"RAG\",\n",
    "        \"LLM Call\":\"LLM\",\n",
    "        \"WebCrawling Call\":\"WebCrawling\"\n",
    "    }\n",
    ")\n",
    "# Conditional flow from Validation\n",
    "workflow.add_conditional_edges(\n",
    "    \"Validation\",\n",
    "    lambda state: \"Pass\" if state.get(\"is_valid\", True) else \"Fail\",  \n",
    "    {\n",
    "        \"Pass\": END,\n",
    "        \"Fail\": \"Supervisor\"\n",
    "    }\n",
    ")\n",
    "workflow.add_edge(\"RAG\",\"Validation\")\n",
    "workflow.add_edge(\"LLM\",\"Validation\")\n",
    "workflow.add_edge(\"WebCrawling\",\"Validation\")\n",
    "workflow.add_edge(\"Validation\",END)\n",
    "app = workflow.compile()\n",
    "app"
   ]
  },
  {
   "cell_type": "code",
   "execution_count": 15,
   "id": "152711bf",
   "metadata": {},
   "outputs": [
    {
     "name": "stdout",
     "output_type": "stream",
     "text": [
      "{'messages': ['Hi']}\n",
      "-->Supervisor-->\n",
      "-->1-->\n",
      "-->2-->\n",
      "-->3-->\n",
      "-->4-->\n",
      "Parsed response Topic='Not Related' Reasoning='The query \"Hi\" is a generic greeting and does not relate to the USA or INDIA.'\n",
      "-->Router-->\n",
      "-->Router:LLM Call-->\n",
      "-->LLM-->\n",
      "Response returned Hi!  How can I help you today?\n",
      "-->validation-->\n",
      "✅ Validation passed\n"
     ]
    },
    {
     "data": {
      "text/plain": [
       "{'messages': ['Hi', 'Not Related', 'Hi!  How can I help you today?']}"
      ]
     },
     "execution_count": 15,
     "metadata": {},
     "output_type": "execute_result"
    }
   ],
   "source": [
    "state = {\"messages\": [\"Hi\"]}\n",
    "app.invoke(state)"
   ]
  },
  {
   "cell_type": "code",
   "execution_count": 16,
   "id": "34b8e916",
   "metadata": {},
   "outputs": [
    {
     "name": "stdout",
     "output_type": "stream",
     "text": [
      "{'messages': [\"Can you tell me industrial growth of world's most poor economy?\"]}\n",
      "-->Supervisor-->\n",
      "-->1-->\n",
      "-->2-->\n",
      "-->3-->\n",
      "-->4-->\n",
      "Parsed response Topic='Not Related' Reasoning=\"The query asks about the industrial growth of the world's poorest economy, which is a global topic not specific to the USA or India.\"\n",
      "-->Router-->\n",
      "-->Router:LLM Call-->\n",
      "-->LLM-->\n",
      "Response returned There's no single, universally agreed-upon metric for \"world's most poor economy,\" as different organizations use different measures (GDP per capita, poverty rates, Human Development Index, etc.) and rankings fluctuate.  Furthermore, reliable industrial growth data for the poorest countries is often scarce or unreliable due to limited data collection infrastructure and economic volatility.\n",
      "\n",
      "However, we can make some general observations:\n",
      "\n",
      "* **Industrial growth in the poorest economies is typically low and often volatile.** These economies often rely heavily on agriculture and lack the infrastructure, capital, and skilled labor needed for significant industrial development.  They may experience short bursts of growth tied to specific commodity exports (e.g., mining), but sustained, broad-based industrialization is rare.\n",
      "\n",
      "* **Challenges hinder industrial growth:** These challenges include:\n",
      "    * **Lack of infrastructure:** Poor transportation, energy, and communication networks hamper industrial development.\n",
      "    * **Limited access to finance:**  Businesses struggle to secure loans and investment.\n",
      "    * **Political instability and conflict:**  Uncertainty discourages investment and disrupts production.\n",
      "    * **Lack of skilled labor:**  A shortage of educated and trained workers limits productivity.\n",
      "    * **Dependence on primary commodity exports:**  Vulnerable to price fluctuations in global markets.\n",
      "    * **Climate change impacts:**  Many of the poorest countries are disproportionately affected by climate change, which can damage agricultural production and infrastructure.\n",
      "\n",
      "* **Specific examples:**  While pinpointing the *absolute* poorest with precise industrial growth figures is difficult, countries frequently cited among the poorest often show very low levels of industrialization and correspondingly low or erratic industrial growth rates.  Their economic activity is often dominated by subsistence agriculture.\n",
      "\n",
      "In short, while precise data is elusive, the general trend for industrial growth in the world's poorest economies is characterized by slow progress, significant challenges, and high vulnerability to external shocks.  Any apparent growth figures must be interpreted cautiously due to data limitations and the complex interplay of factors influencing these fragile economies.\n",
      "-->validation-->\n",
      "✅ Validation passed\n"
     ]
    },
    {
     "data": {
      "text/plain": [
       "'There\\'s no single, universally agreed-upon metric for \"world\\'s most poor economy,\" as different organizations use different measures (GDP per capita, poverty rates, Human Development Index, etc.) and rankings fluctuate.  Furthermore, reliable industrial growth data for the poorest countries is often scarce or unreliable due to limited data collection infrastructure and economic volatility.\\n\\nHowever, we can make some general observations:\\n\\n* **Industrial growth in the poorest economies is typically low and often volatile.** These economies often rely heavily on agriculture and lack the infrastructure, capital, and skilled labor needed for significant industrial development.  They may experience short bursts of growth tied to specific commodity exports (e.g., mining), but sustained, broad-based industrialization is rare.\\n\\n* **Challenges hinder industrial growth:** These challenges include:\\n    * **Lack of infrastructure:** Poor transportation, energy, and communication networks hamper industrial development.\\n    * **Limited access to finance:**  Businesses struggle to secure loans and investment.\\n    * **Political instability and conflict:**  Uncertainty discourages investment and disrupts production.\\n    * **Lack of skilled labor:**  A shortage of educated and trained workers limits productivity.\\n    * **Dependence on primary commodity exports:**  Vulnerable to price fluctuations in global markets.\\n    * **Climate change impacts:**  Many of the poorest countries are disproportionately affected by climate change, which can damage agricultural production and infrastructure.\\n\\n* **Specific examples:**  While pinpointing the *absolute* poorest with precise industrial growth figures is difficult, countries frequently cited among the poorest often show very low levels of industrialization and correspondingly low or erratic industrial growth rates.  Their economic activity is often dominated by subsistence agriculture.\\n\\nIn short, while precise data is elusive, the general trend for industrial growth in the world\\'s poorest economies is characterized by slow progress, significant challenges, and high vulnerability to external shocks.  Any apparent growth figures must be interpreted cautiously due to data limitations and the complex interplay of factors influencing these fragile economies.'"
      ]
     },
     "execution_count": 16,
     "metadata": {},
     "output_type": "execute_result"
    }
   ],
   "source": [
    "state = {\"messages\":[\"Can you tell me industrial growth of world's most poor economy?\"]}\n",
    "result= app.invoke(state)\n",
    "result[\"messages\"][-1]"
   ]
  },
  {
   "cell_type": "code",
   "execution_count": 17,
   "id": "f4cabd86",
   "metadata": {},
   "outputs": [
    {
     "name": "stdout",
     "output_type": "stream",
     "text": [
      "{'messages': ['Can you tell me gdp of USA?']}\n",
      "-->Supervisor-->\n",
      "-->1-->\n",
      "-->2-->\n",
      "-->3-->\n",
      "-->4-->\n",
      "Parsed response Topic='USA' Reasoning='The query explicitly asks for the GDP of the USA.'\n",
      "-->Router-->\n",
      "-->Router:RAG Call-->\n",
      "-->RAG-->\n",
      "Response returned The nominal GDP of the United States is estimated to be around $28 trillion USD as of 2024.  This represents approximately 25% of the global economy.  It holds the #1 ranking worldwide by nominal GDP.\n",
      "-->validation-->\n",
      "✅ Validation passed\n"
     ]
    }
   ],
   "source": [
    "state = {\"messages\":[\"Can you tell me gdp of USA?\"]}\n",
    "result= app.invoke(state)"
   ]
  },
  {
   "cell_type": "code",
   "execution_count": null,
   "id": "8d98ea3b",
   "metadata": {},
   "outputs": [
    {
     "name": "stdout",
     "output_type": "stream",
     "text": [
      "{'messages': ['Can you tell me gdp of India?']}\n",
      "-->Supervisor-->\n",
      "-->1-->\n",
      "-->2-->\n",
      "-->3-->\n",
      "-->4-->\n",
      "Parsed response Topic='INDIA' Reasoning='The query explicitly asks for the GDP of India.'\n",
      "-->Router-->\n",
      "-->Router:WebCrawling Call-->\n",
      "-->Tavily-->\n",
      "results found:\n",
      "response: $4.19 trillion (nominal; 2025 est.) ... $17.65 trillion (PPP; 2025 est.) GDP rank. 4th (nominal; 2025) · 3rd\n",
      "-->validation-->\n",
      "❌ Validation failed\n",
      "{'messages': ['Can you tell me gdp of India?', 'INDIA']}\n",
      "-->Supervisor-->\n",
      "-->1-->\n",
      "-->2-->\n",
      "-->3-->\n",
      "-->4-->\n",
      "Parsed response Topic='INDIA' Reasoning='The user query explicitly mentions INDIA.'\n",
      "-->Router-->\n",
      "-->Router:WebCrawling Call-->\n",
      "-->Tavily-->\n",
      "results found:\n",
      "response: $4.19 trillion (nominal; 2025 est.) ... $17.65 trillion (PPP; 2025 est.) GDP rank. 4th (nominal; 2025) · 3rd\n",
      "-->validation-->\n",
      "❌ Validation failed\n",
      "{'messages': ['Can you tell me gdp of India?', 'INDIA', 'INDIA']}\n",
      "-->Supervisor-->\n",
      "-->1-->\n",
      "-->2-->\n",
      "-->3-->\n",
      "-->4-->\n",
      "Parsed response Topic='INDIA' Reasoning=\"The user query explicitly mentions 'INDIA'.\"\n",
      "-->Router-->\n",
      "-->Router:WebCrawling Call-->\n",
      "-->Tavily-->\n",
      "results found:\n",
      "response: $4.19 trillion (nominal; 2025 est.) ... $17.65 trillion (PPP; 2025 est.) GDP rank. 4th (nominal; 2025) · 3rd\n",
      "-->validation-->\n",
      "❌ Validation failed\n",
      "{'messages': ['Can you tell me gdp of India?', 'INDIA', 'INDIA', 'INDIA']}\n",
      "-->Supervisor-->\n",
      "-->1-->\n",
      "-->2-->\n",
      "-->3-->\n",
      "-->4-->\n",
      "Parsed response Topic='INDIA' Reasoning='The user query explicitly mentions INDIA.'\n",
      "-->Router-->\n",
      "-->Router:WebCrawling Call-->\n",
      "-->Tavily-->\n",
      "results found:\n",
      "response: $4.19 trillion (nominal; 2025 est.) ... $17.65 trillion (PPP; 2025 est.) GDP rank. 4th (nominal; 2025) · 3rd\n",
      "-->validation-->\n",
      "❌ Validation failed\n",
      "{'messages': ['Can you tell me gdp of India?', 'INDIA', 'INDIA', 'INDIA', 'INDIA']}\n",
      "-->Supervisor-->\n",
      "-->1-->\n",
      "-->2-->\n",
      "-->3-->\n",
      "-->4-->\n",
      "Parsed response Topic='INDIA' Reasoning='The user query explicitly mentions INDIA.'\n",
      "-->Router-->\n",
      "-->Router:WebCrawling Call-->\n",
      "-->Tavily-->\n",
      "results found:\n",
      "response: $4.19 trillion (nominal; 2025 est.) ... $17.65 trillion (PPP; 2025 est.) GDP rank. 4th (nominal; 2025) · 3rd\n",
      "-->validation-->\n",
      "❌ Validation failed\n",
      "{'messages': ['Can you tell me gdp of India?', 'INDIA', 'INDIA', 'INDIA', 'INDIA', 'INDIA']}\n",
      "-->Supervisor-->\n",
      "-->1-->\n",
      "-->2-->\n",
      "-->3-->\n",
      "-->4-->\n",
      "Parsed response Topic='INDIA' Reasoning='The user query explicitly mentions INDIA.'\n",
      "-->Router-->\n",
      "-->Router:WebCrawling Call-->\n",
      "-->Tavily-->\n",
      "results found:\n",
      "response: $4.19 trillion (nominal; 2025 est.) ... $17.65 trillion (PPP; 2025 est.) GDP rank. 4th (nominal; 2025) · 3rd\n",
      "-->validation-->\n",
      "❌ Validation failed\n",
      "{'messages': ['Can you tell me gdp of India?', 'INDIA', 'INDIA', 'INDIA', 'INDIA', 'INDIA', 'INDIA']}\n",
      "-->Supervisor-->\n",
      "-->1-->\n",
      "-->2-->\n",
      "-->3-->\n",
      "-->4-->\n",
      "Parsed response Topic='INDIA' Reasoning='The user query explicitly mentions INDIA.'\n",
      "-->Router-->\n",
      "-->Router:WebCrawling Call-->\n",
      "-->Tavily-->\n",
      "results found:\n",
      "response: $4.19 trillion (nominal; 2025 est.) ... $17.65 trillion (PPP; 2025 est.) GDP rank. 4th (nominal; 2025) · 3rd\n",
      "-->validation-->\n",
      "❌ Validation failed\n",
      "{'messages': ['Can you tell me gdp of India?', 'INDIA', 'INDIA', 'INDIA', 'INDIA', 'INDIA', 'INDIA', 'INDIA']}\n",
      "-->Supervisor-->\n",
      "-->1-->\n",
      "-->2-->\n",
      "-->3-->\n",
      "-->4-->\n",
      "Parsed response Topic='INDIA' Reasoning='The user query explicitly mentions INDIA.'\n",
      "-->Router-->\n",
      "-->Router:WebCrawling Call-->\n",
      "-->Tavily-->\n"
     ]
    }
   ],
   "source": [
    "#Validation flow where response of travily is manually changed to null\n",
    "state = {\"messages\":[\"Can you tell me gdp of India?\"]}\n",
    "result= app.invoke(state)"
   ]
  },
  {
   "cell_type": "code",
   "execution_count": 15,
   "id": "a21d2489",
   "metadata": {},
   "outputs": [
    {
     "name": "stdout",
     "output_type": "stream",
     "text": [
      "{'messages': ['Can you tell me gdp of India?']}\n",
      "-->Supervisor-->\n",
      "-->1-->\n",
      "-->2-->\n",
      "-->3-->\n",
      "-->4-->\n",
      "Parsed response Topic='INDIA' Reasoning='The query explicitly asks for the GDP of India.'\n",
      "-->Router-->\n",
      "-->Router:WebCrawling Call-->\n",
      "-->Tavily-->\n",
      "results found:\n",
      "response: $4.19 trillion (nominal; 2025 est.) ... $17.65 trillion (PPP; 2025 est.) GDP rank. 4th (nominal; 2025) · 3rd\n",
      "-->validation-->\n",
      "✅ Validation passed\n"
     ]
    }
   ],
   "source": [
    "#Travily flow\n",
    "state = {\"messages\":[\"Can you tell me gdp of India?\"]}\n",
    "result= app.invoke(state)"
   ]
  }
 ],
 "metadata": {
  "kernelspec": {
   "display_name": "venv",
   "language": "python",
   "name": "python3"
  },
  "language_info": {
   "codemirror_mode": {
    "name": "ipython",
    "version": 3
   },
   "file_extension": ".py",
   "mimetype": "text/x-python",
   "name": "python",
   "nbconvert_exporter": "python",
   "pygments_lexer": "ipython3",
   "version": "3.13.0"
  }
 },
 "nbformat": 4,
 "nbformat_minor": 5
}
